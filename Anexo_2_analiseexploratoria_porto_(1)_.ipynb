{
  "nbformat": 4,
  "nbformat_minor": 0,
  "metadata": {
    "kernelspec": {
      "display_name": "Python 3",
      "language": "python",
      "name": "python3"
    },
    "language_info": {
      "codemirror_mode": {
        "name": "ipython",
        "version": 3
      },
      "file_extension": ".py",
      "mimetype": "text/x-python",
      "name": "python",
      "nbconvert_exporter": "python",
      "pygments_lexer": "ipython3",
      "version": "3.7.3"
    },
    "colab": {
      "name": "Anexo 2 - analiseexploratoria_porto_(1) .ipynb",
      "provenance": [],
      "collapsed_sections": [],
      "toc_visible": true,
      "include_colab_link": true
    }
  },
  "cells": [
    {
      "cell_type": "markdown",
      "metadata": {
        "id": "view-in-github",
        "colab_type": "text"
      },
      "source": [
        "<a href=\"https://colab.research.google.com/github/dudaascariz/teste/blob/master/Anexo_2_analiseexploratoria_porto_(1)_.ipynb\" target=\"_parent\"><img src=\"https://colab.research.google.com/assets/colab-badge.svg\" alt=\"Open In Colab\"/></a>"
      ]
    },
    {
      "cell_type": "markdown",
      "metadata": {
        "id": "54NEEHGvzD2p"
      },
      "source": [
        "## Análise exploratória de dados\n",
        "Estimativa do horário de termino de operacão de navios de granel solido no Porto de Santos\n",
        "Utilizaremos as bibliotecas pandas e numpy para fazer a manipulação dos dados.\n",
        "Trabalharemos com a base de dados do Sistema SUPERVIA do Porto de Santos, que contém dados sobre atracação de navios e características de local, tipo de carga, horários de início e término de atracação e dimensões."
      ]
    },
    {
      "cell_type": "code",
      "metadata": {
        "id": "oZk54714zQ3c"
      },
      "source": [
        "#from google.colab import drive\n",
        "#drive.mount('/content/drive')"
      ],
      "execution_count": 1,
      "outputs": []
    },
    {
      "cell_type": "code",
      "metadata": {
        "id": "6zaJlHAzzD2q",
        "colab": {
          "base_uri": "https://localhost:8080/"
        },
        "outputId": "d2338025-8305-4ef6-f25d-fb3ffb11fa9e"
      },
      "source": [
        "import pandas as pd\n",
        "\n",
        "import datetime as dt\n",
        "import numpy as np\n",
        "import datetime\n",
        "from datetime import datetime\n",
        "import seaborn as sns\n",
        "import matplotlib.pyplot as plt\n",
        "from   sklearn.linear_model import LinearRegression\n",
        "from   sklearn.metrics import r2_score\n",
        "import statsmodels.api as sm\n",
        "import os"
      ],
      "execution_count": 2,
      "outputs": [
        {
          "output_type": "stream",
          "text": [
            "/usr/local/lib/python3.7/dist-packages/statsmodels/tools/_testing.py:19: FutureWarning: pandas.util.testing is deprecated. Use the functions in the public API at pandas.testing instead.\n",
            "  import pandas.util.testing as tm\n"
          ],
          "name": "stderr"
        }
      ]
    },
    {
      "cell_type": "code",
      "metadata": {
        "id": "Hew9lVGfzD2r"
      },
      "source": [
        "data = pd.read_excel('/content/boletins_2016_2020.xlsx')"
      ],
      "execution_count": 3,
      "outputs": []
    },
    {
      "cell_type": "code",
      "metadata": {
        "colab": {
          "base_uri": "https://localhost:8080/",
          "height": 513
        },
        "id": "AWMk7pNzzD2r",
        "outputId": "20f6be84-c4e3-4687-b3cf-ca494552356c"
      },
      "source": [
        "data.head()"
      ],
      "execution_count": 4,
      "outputs": [
        {
          "output_type": "execute_result",
          "data": {
            "text/html": [
              "<div>\n",
              "<style scoped>\n",
              "    .dataframe tbody tr th:only-of-type {\n",
              "        vertical-align: middle;\n",
              "    }\n",
              "\n",
              "    .dataframe tbody tr th {\n",
              "        vertical-align: top;\n",
              "    }\n",
              "\n",
              "    .dataframe thead th {\n",
              "        text-align: right;\n",
              "    }\n",
              "</style>\n",
              "<table border=\"1\" class=\"dataframe\">\n",
              "  <thead>\n",
              "    <tr style=\"text-align: right;\">\n",
              "      <th></th>\n",
              "      <th>LOCAL_TERMINAL</th>\n",
              "      <th>LOCAL_ATRACACAO_X</th>\n",
              "      <th>LOCAL_ATRACACAO_DATA_INICIO</th>\n",
              "      <th>LOCAL_ATRACACAO_DATA_TERMINO</th>\n",
              "      <th>LOCAL_ATRACACAO_PROFUNDIDADE</th>\n",
              "      <th>NAVIO_IMO</th>\n",
              "      <th>NAVIO_CLASSE</th>\n",
              "      <th>NAVIO_CALADO</th>\n",
              "      <th>NAVIO_COMPRIMENTO</th>\n",
              "      <th>NAVIO_LARGURA</th>\n",
              "      <th>OPERADOR_NOME</th>\n",
              "      <th>CARGA_NATUREZA_X</th>\n",
              "      <th>QTDE_VIAGENS</th>\n",
              "      <th>QTDE_EMB_RAP</th>\n",
              "      <th>QTDE_DESC_RAP</th>\n",
              "      <th>EMBARQUE_TOTAL_T</th>\n",
              "      <th>DESCARGA_TOTAL_T</th>\n",
              "      <th>TOTAL_T</th>\n",
              "      <th>EMBARQUE_TOTAL_V</th>\n",
              "      <th>DESCARGA_TOTAL_V</th>\n",
              "      <th>TOTAL_V</th>\n",
              "      <th>EMBARQUE_TOTAL_CC_CV</th>\n",
              "      <th>DESCARGA_TOTAL_CC_CV</th>\n",
              "      <th>TOTAL_CC_CV</th>\n",
              "    </tr>\n",
              "  </thead>\n",
              "  <tbody>\n",
              "    <tr>\n",
              "      <th>0</th>\n",
              "      <td>SAIPEM - TPF</td>\n",
              "      <td>918 - SAIPEM IV</td>\n",
              "      <td>2015-11-11 19:00:00</td>\n",
              "      <td>2016-01-08 10:00:00</td>\n",
              "      <td>0.0</td>\n",
              "      <td>9999195</td>\n",
              "      <td>EMBARCACAO DE APOIO</td>\n",
              "      <td>3.0</td>\n",
              "      <td>72</td>\n",
              "      <td>25.0</td>\n",
              "      <td>SERVNAV AGENCIAMENTOS E SERVIÇOS MARITIMOS LTDA</td>\n",
              "      <td>CG - CARGA GERAL SOLTA</td>\n",
              "      <td>1</td>\n",
              "      <td>100.0</td>\n",
              "      <td>100.0</td>\n",
              "      <td>788.0</td>\n",
              "      <td>NaN</td>\n",
              "      <td>788.0</td>\n",
              "      <td>14.0</td>\n",
              "      <td>NaN</td>\n",
              "      <td>14.0</td>\n",
              "      <td>NaN</td>\n",
              "      <td>NaN</td>\n",
              "      <td>NaN</td>\n",
              "    </tr>\n",
              "    <tr>\n",
              "      <th>1</th>\n",
              "      <td>SAIPEM - TPF</td>\n",
              "      <td>920 - SAIPEM II</td>\n",
              "      <td>2015-12-11 09:55:00</td>\n",
              "      <td>2016-01-24 10:00:00</td>\n",
              "      <td>0.0</td>\n",
              "      <td>9218234</td>\n",
              "      <td>CARGUEIRO COMUM</td>\n",
              "      <td>4.4</td>\n",
              "      <td>91</td>\n",
              "      <td>13.8</td>\n",
              "      <td>RELIANCE AGENCIAMENTO E SERVICOS PORTUARIOS LTDA.</td>\n",
              "      <td>CG - CARGA GERAL SOLTA</td>\n",
              "      <td>1</td>\n",
              "      <td>100.0</td>\n",
              "      <td>100.0</td>\n",
              "      <td>2154.0</td>\n",
              "      <td>NaN</td>\n",
              "      <td>2154.0</td>\n",
              "      <td>300.0</td>\n",
              "      <td>NaN</td>\n",
              "      <td>300.0</td>\n",
              "      <td>NaN</td>\n",
              "      <td>NaN</td>\n",
              "      <td>NaN</td>\n",
              "    </tr>\n",
              "    <tr>\n",
              "      <th>2</th>\n",
              "      <td>SAIPEM - TPF</td>\n",
              "      <td>919 - SAIPEM I</td>\n",
              "      <td>2015-12-21 08:30:00</td>\n",
              "      <td>2016-01-02 09:00:00</td>\n",
              "      <td>0.0</td>\n",
              "      <td>9340300</td>\n",
              "      <td>CARGUEIRO COMUM</td>\n",
              "      <td>4.4</td>\n",
              "      <td>90</td>\n",
              "      <td>13.8</td>\n",
              "      <td>RELIANCE AGENCIAMENTO E SERVICOS PORTUARIOS LTDA.</td>\n",
              "      <td>CC - CONTEINER CHEIO</td>\n",
              "      <td>1</td>\n",
              "      <td>1066.0</td>\n",
              "      <td>25.0</td>\n",
              "      <td>6.0</td>\n",
              "      <td>NaN</td>\n",
              "      <td>6.0</td>\n",
              "      <td>NaN</td>\n",
              "      <td>NaN</td>\n",
              "      <td>NaN</td>\n",
              "      <td>2.0</td>\n",
              "      <td>NaN</td>\n",
              "      <td>2.0</td>\n",
              "    </tr>\n",
              "    <tr>\n",
              "      <th>3</th>\n",
              "      <td>SAIPEM - TPF</td>\n",
              "      <td>919 - SAIPEM I</td>\n",
              "      <td>2015-12-21 08:30:00</td>\n",
              "      <td>2016-01-02 09:00:00</td>\n",
              "      <td>0.0</td>\n",
              "      <td>9340300</td>\n",
              "      <td>CARGUEIRO COMUM</td>\n",
              "      <td>4.4</td>\n",
              "      <td>90</td>\n",
              "      <td>13.8</td>\n",
              "      <td>RELIANCE AGENCIAMENTO E SERVICOS PORTUARIOS LTDA.</td>\n",
              "      <td>CG - CARGA GERAL SOLTA</td>\n",
              "      <td>1</td>\n",
              "      <td>1066.0</td>\n",
              "      <td>25.0</td>\n",
              "      <td>NaN</td>\n",
              "      <td>4.0</td>\n",
              "      <td>4.0</td>\n",
              "      <td>NaN</td>\n",
              "      <td>4.0</td>\n",
              "      <td>4.0</td>\n",
              "      <td>NaN</td>\n",
              "      <td>NaN</td>\n",
              "      <td>NaN</td>\n",
              "    </tr>\n",
              "    <tr>\n",
              "      <th>4</th>\n",
              "      <td>COREX - CPB</td>\n",
              "      <td>748 - ARMAZEM 38</td>\n",
              "      <td>2015-12-24 16:40:00</td>\n",
              "      <td>2016-01-05 02:15:00</td>\n",
              "      <td>13.7</td>\n",
              "      <td>9584592</td>\n",
              "      <td>GRANELEIRO</td>\n",
              "      <td>14.6</td>\n",
              "      <td>229</td>\n",
              "      <td>32.3</td>\n",
              "      <td>LOUIS DREYFUS COMMODITIES BRASIL S.A.</td>\n",
              "      <td>GS - GRANEL SOLIDO</td>\n",
              "      <td>1</td>\n",
              "      <td>58000.0</td>\n",
              "      <td>NaN</td>\n",
              "      <td>3879.0</td>\n",
              "      <td>NaN</td>\n",
              "      <td>3879.0</td>\n",
              "      <td>NaN</td>\n",
              "      <td>NaN</td>\n",
              "      <td>NaN</td>\n",
              "      <td>NaN</td>\n",
              "      <td>NaN</td>\n",
              "      <td>NaN</td>\n",
              "    </tr>\n",
              "  </tbody>\n",
              "</table>\n",
              "</div>"
            ],
            "text/plain": [
              "  LOCAL_TERMINAL LOCAL_ATRACACAO_X  ... DESCARGA_TOTAL_CC_CV TOTAL_CC_CV\n",
              "0   SAIPEM - TPF   918 - SAIPEM IV  ...                  NaN         NaN\n",
              "1   SAIPEM - TPF   920 - SAIPEM II  ...                  NaN         NaN\n",
              "2   SAIPEM - TPF    919 - SAIPEM I  ...                  NaN         2.0\n",
              "3   SAIPEM - TPF    919 - SAIPEM I  ...                  NaN         NaN\n",
              "4    COREX - CPB  748 - ARMAZEM 38  ...                  NaN         NaN\n",
              "\n",
              "[5 rows x 24 columns]"
            ]
          },
          "metadata": {
            "tags": []
          },
          "execution_count": 4
        }
      ]
    },
    {
      "cell_type": "code",
      "metadata": {
        "id": "DbyRJzfKzD2s",
        "colab": {
          "base_uri": "https://localhost:8080/"
        },
        "outputId": "bc780430-43ba-4501-d0a1-192e145a561c"
      },
      "source": [
        "data.info()"
      ],
      "execution_count": 5,
      "outputs": [
        {
          "output_type": "stream",
          "text": [
            "<class 'pandas.core.frame.DataFrame'>\n",
            "RangeIndex: 41220 entries, 0 to 41219\n",
            "Data columns (total 24 columns):\n",
            " #   Column                        Non-Null Count  Dtype         \n",
            "---  ------                        --------------  -----         \n",
            " 0   LOCAL_TERMINAL                41220 non-null  object        \n",
            " 1   LOCAL_ATRACACAO_X             41220 non-null  object        \n",
            " 2   LOCAL_ATRACACAO_DATA_INICIO   41032 non-null  datetime64[ns]\n",
            " 3   LOCAL_ATRACACAO_DATA_TERMINO  41220 non-null  datetime64[ns]\n",
            " 4   LOCAL_ATRACACAO_PROFUNDIDADE  41220 non-null  float64       \n",
            " 5   NAVIO_IMO                     41220 non-null  int64         \n",
            " 6   NAVIO_CLASSE                  41220 non-null  object        \n",
            " 7   NAVIO_CALADO                  41220 non-null  float64       \n",
            " 8   NAVIO_COMPRIMENTO             41220 non-null  int64         \n",
            " 9   NAVIO_LARGURA                 41220 non-null  float64       \n",
            " 10  OPERADOR_NOME                 41220 non-null  object        \n",
            " 11  CARGA_NATUREZA_X              41220 non-null  object        \n",
            " 12  QTDE_VIAGENS                  41220 non-null  int64         \n",
            " 13  QTDE_EMB_RAP                  35095 non-null  float64       \n",
            " 14  QTDE_DESC_RAP                 29623 non-null  float64       \n",
            " 15  EMBARQUE_TOTAL_T              30715 non-null  float64       \n",
            " 16  DESCARGA_TOTAL_T              28338 non-null  float64       \n",
            " 17  TOTAL_T                       41204 non-null  float64       \n",
            " 18  EMBARQUE_TOTAL_V              3346 non-null   float64       \n",
            " 19  DESCARGA_TOTAL_V              1206 non-null   float64       \n",
            " 20  TOTAL_V                       3739 non-null   float64       \n",
            " 21  EMBARQUE_TOTAL_CC_CV          18806 non-null  float64       \n",
            " 22  DESCARGA_TOTAL_CC_CV          20071 non-null  float64       \n",
            " 23  TOTAL_CC_CV                   22245 non-null  float64       \n",
            "dtypes: datetime64[ns](2), float64(14), int64(3), object(5)\n",
            "memory usage: 7.5+ MB\n"
          ],
          "name": "stdout"
        }
      ]
    },
    {
      "cell_type": "markdown",
      "metadata": {
        "id": "A2pePOh9zD2t"
      },
      "source": [
        "### Tratamento de Dados Nulos nas colunas de data e total em toneladas"
      ]
    },
    {
      "cell_type": "code",
      "metadata": {
        "id": "I7utWV52zD2t"
      },
      "source": [
        "data = data[(data['LOCAL_ATRACACAO_DATA_INICIO'].notna()) & (data['LOCAL_ATRACACAO_DATA_TERMINO'].notna()) & (data['TOTAL_T'].notna()) ]"
      ],
      "execution_count": 6,
      "outputs": []
    },
    {
      "cell_type": "code",
      "metadata": {
        "id": "wgoDf8yzjWlz"
      },
      "source": [
        ""
      ],
      "execution_count": 6,
      "outputs": []
    },
    {
      "cell_type": "code",
      "metadata": {
        "colab": {
          "base_uri": "https://localhost:8080/"
        },
        "id": "qsys-6oeWpjE",
        "outputId": "3bcd04d9-3419-4679-a7b8-b376d5699473"
      },
      "source": [
        "data.info()"
      ],
      "execution_count": 7,
      "outputs": [
        {
          "output_type": "stream",
          "text": [
            "<class 'pandas.core.frame.DataFrame'>\n",
            "Int64Index: 41016 entries, 0 to 41031\n",
            "Data columns (total 24 columns):\n",
            " #   Column                        Non-Null Count  Dtype         \n",
            "---  ------                        --------------  -----         \n",
            " 0   LOCAL_TERMINAL                41016 non-null  object        \n",
            " 1   LOCAL_ATRACACAO_X             41016 non-null  object        \n",
            " 2   LOCAL_ATRACACAO_DATA_INICIO   41016 non-null  datetime64[ns]\n",
            " 3   LOCAL_ATRACACAO_DATA_TERMINO  41016 non-null  datetime64[ns]\n",
            " 4   LOCAL_ATRACACAO_PROFUNDIDADE  41016 non-null  float64       \n",
            " 5   NAVIO_IMO                     41016 non-null  int64         \n",
            " 6   NAVIO_CLASSE                  41016 non-null  object        \n",
            " 7   NAVIO_CALADO                  41016 non-null  float64       \n",
            " 8   NAVIO_COMPRIMENTO             41016 non-null  int64         \n",
            " 9   NAVIO_LARGURA                 41016 non-null  float64       \n",
            " 10  OPERADOR_NOME                 41016 non-null  object        \n",
            " 11  CARGA_NATUREZA_X              41016 non-null  object        \n",
            " 12  QTDE_VIAGENS                  41016 non-null  int64         \n",
            " 13  QTDE_EMB_RAP                  34943 non-null  float64       \n",
            " 14  QTDE_DESC_RAP                 29495 non-null  float64       \n",
            " 15  EMBARQUE_TOTAL_T              30592 non-null  float64       \n",
            " 16  DESCARGA_TOTAL_T              28227 non-null  float64       \n",
            " 17  TOTAL_T                       41016 non-null  float64       \n",
            " 18  EMBARQUE_TOTAL_V              3311 non-null   float64       \n",
            " 19  DESCARGA_TOTAL_V              1190 non-null   float64       \n",
            " 20  TOTAL_V                       3695 non-null   float64       \n",
            " 21  EMBARQUE_TOTAL_CC_CV          18761 non-null  float64       \n",
            " 22  DESCARGA_TOTAL_CC_CV          20020 non-null  float64       \n",
            " 23  TOTAL_CC_CV                   22188 non-null  float64       \n",
            "dtypes: datetime64[ns](2), float64(14), int64(3), object(5)\n",
            "memory usage: 7.8+ MB\n"
          ],
          "name": "stdout"
        }
      ]
    },
    {
      "cell_type": "markdown",
      "metadata": {
        "id": "LsVQaEzFzD2t"
      },
      "source": [
        "### Criação de Coluna com o Tempo de Atracação, Conversão para horas e cálculo de taxa de operação (ton/h)"
      ]
    },
    {
      "cell_type": "code",
      "metadata": {
        "colab": {
          "base_uri": "https://localhost:8080/",
          "height": 419
        },
        "id": "PjLzfpUFYOzs",
        "outputId": "49cc5124-2538-4cbc-9330-ce2dd8df4eb2"
      },
      "source": [
        "x= data.drop(columns=['OPERADOR_NOME','LOCAL_TERMINAL','NAVIO_IMO','QTDE_VIAGENS','QTDE_EMB_RAP', 'QTDE_DESC_RAP','QTDE_EMB_RAP','QTDE_DESC_RAP','EMBARQUE_TOTAL_V','DESCARGA_TOTAL_V','EMBARQUE_TOTAL_CC_CV','DESCARGA_TOTAL_CC_CV','TOTAL_CC_CV','EMBARQUE_TOTAL_T','EMBARQUE_TOTAL_V','DESCARGA_TOTAL_V','DESCARGA_TOTAL_T','TOTAL_V','DESCARGA_TOTAL_T','LOCAL_ATRACACAO_PROFUNDIDADE'])\n",
        "x= x[(x['CARGA_NATUREZA_X'] == 'GS - GRANEL SOLIDO') ]\n",
        "x"
      ],
      "execution_count": 8,
      "outputs": [
        {
          "output_type": "execute_result",
          "data": {
            "text/html": [
              "<div>\n",
              "<style scoped>\n",
              "    .dataframe tbody tr th:only-of-type {\n",
              "        vertical-align: middle;\n",
              "    }\n",
              "\n",
              "    .dataframe tbody tr th {\n",
              "        vertical-align: top;\n",
              "    }\n",
              "\n",
              "    .dataframe thead th {\n",
              "        text-align: right;\n",
              "    }\n",
              "</style>\n",
              "<table border=\"1\" class=\"dataframe\">\n",
              "  <thead>\n",
              "    <tr style=\"text-align: right;\">\n",
              "      <th></th>\n",
              "      <th>LOCAL_ATRACACAO_X</th>\n",
              "      <th>LOCAL_ATRACACAO_DATA_INICIO</th>\n",
              "      <th>LOCAL_ATRACACAO_DATA_TERMINO</th>\n",
              "      <th>NAVIO_CLASSE</th>\n",
              "      <th>NAVIO_CALADO</th>\n",
              "      <th>NAVIO_COMPRIMENTO</th>\n",
              "      <th>NAVIO_LARGURA</th>\n",
              "      <th>CARGA_NATUREZA_X</th>\n",
              "      <th>TOTAL_T</th>\n",
              "    </tr>\n",
              "  </thead>\n",
              "  <tbody>\n",
              "    <tr>\n",
              "      <th>4</th>\n",
              "      <td>748 - ARMAZEM 38</td>\n",
              "      <td>2015-12-24 16:40:00</td>\n",
              "      <td>2016-01-05 02:15:00</td>\n",
              "      <td>GRANELEIRO</td>\n",
              "      <td>14.6</td>\n",
              "      <td>229</td>\n",
              "      <td>32.3</td>\n",
              "      <td>GS - GRANEL SOLIDO</td>\n",
              "      <td>3879.0</td>\n",
              "    </tr>\n",
              "    <tr>\n",
              "      <th>5</th>\n",
              "      <td>627 - OUTEIRINHOS 2</td>\n",
              "      <td>2015-12-27 00:15:00</td>\n",
              "      <td>2016-01-04 13:35:00</td>\n",
              "      <td>GRANELEIRO</td>\n",
              "      <td>13.3</td>\n",
              "      <td>200</td>\n",
              "      <td>32.3</td>\n",
              "      <td>GS - GRANEL SOLIDO</td>\n",
              "      <td>5576.0</td>\n",
              "    </tr>\n",
              "    <tr>\n",
              "      <th>6</th>\n",
              "      <td>412 - ARMAZEM 12A</td>\n",
              "      <td>2015-12-27 23:15:00</td>\n",
              "      <td>2016-01-05 02:50:00</td>\n",
              "      <td>GRANELEIRO</td>\n",
              "      <td>14.9</td>\n",
              "      <td>229</td>\n",
              "      <td>38.0</td>\n",
              "      <td>GS - GRANEL SOLIDO</td>\n",
              "      <td>3450.0</td>\n",
              "    </tr>\n",
              "    <tr>\n",
              "      <th>7</th>\n",
              "      <td>419 - ARMAZEM 19</td>\n",
              "      <td>2015-12-29 13:35:00</td>\n",
              "      <td>2016-01-04 14:10:00</td>\n",
              "      <td>GRANELEIRO</td>\n",
              "      <td>13.4</td>\n",
              "      <td>190</td>\n",
              "      <td>32.3</td>\n",
              "      <td>GS - GRANEL SOLIDO</td>\n",
              "      <td>11750.0</td>\n",
              "    </tr>\n",
              "    <tr>\n",
              "      <th>8</th>\n",
              "      <td>803 - TGG</td>\n",
              "      <td>2015-12-29 21:30:00</td>\n",
              "      <td>2016-01-02 14:30:00</td>\n",
              "      <td>GRANELEIRO</td>\n",
              "      <td>14.4</td>\n",
              "      <td>225</td>\n",
              "      <td>32.2</td>\n",
              "      <td>GS - GRANEL SOLIDO</td>\n",
              "      <td>125.0</td>\n",
              "    </tr>\n",
              "    <tr>\n",
              "      <th>...</th>\n",
              "      <td>...</td>\n",
              "      <td>...</td>\n",
              "      <td>...</td>\n",
              "      <td>...</td>\n",
              "      <td>...</td>\n",
              "      <td>...</td>\n",
              "      <td>...</td>\n",
              "      <td>...</td>\n",
              "      <td>...</td>\n",
              "    </tr>\n",
              "    <tr>\n",
              "      <th>41017</th>\n",
              "      <td>901 - ULTRAFERTIL I</td>\n",
              "      <td>2020-12-30 20:50:00</td>\n",
              "      <td>2021-01-03 14:55:00</td>\n",
              "      <td>GRANELEIRO</td>\n",
              "      <td>13.3</td>\n",
              "      <td>200</td>\n",
              "      <td>32.3</td>\n",
              "      <td>GS - GRANEL SOLIDO</td>\n",
              "      <td>4297.0</td>\n",
              "    </tr>\n",
              "    <tr>\n",
              "      <th>41018</th>\n",
              "      <td>412 - ARMAZEM 12A</td>\n",
              "      <td>2020-12-30 22:10:00</td>\n",
              "      <td>2021-01-05 16:15:00</td>\n",
              "      <td>GRANELEIRO</td>\n",
              "      <td>13.0</td>\n",
              "      <td>196</td>\n",
              "      <td>32.2</td>\n",
              "      <td>GS - GRANEL SOLIDO</td>\n",
              "      <td>16029.0</td>\n",
              "    </tr>\n",
              "    <tr>\n",
              "      <th>41019</th>\n",
              "      <td>905 - ULTRAFERTIL IV</td>\n",
              "      <td>2020-12-30 22:45:00</td>\n",
              "      <td>2020-12-31 09:50:00</td>\n",
              "      <td>GRANELEIRO</td>\n",
              "      <td>12.9</td>\n",
              "      <td>200</td>\n",
              "      <td>32.3</td>\n",
              "      <td>GS - GRANEL SOLIDO</td>\n",
              "      <td>4524.0</td>\n",
              "    </tr>\n",
              "    <tr>\n",
              "      <th>41020</th>\n",
              "      <td>213 - SABOO III</td>\n",
              "      <td>2020-12-31 00:15:00</td>\n",
              "      <td>2021-01-07 23:20:00</td>\n",
              "      <td>GRANELEIRO</td>\n",
              "      <td>10.5</td>\n",
              "      <td>180</td>\n",
              "      <td>30.0</td>\n",
              "      <td>GS - GRANEL SOLIDO</td>\n",
              "      <td>1663.0</td>\n",
              "    </tr>\n",
              "    <tr>\n",
              "      <th>41026</th>\n",
              "      <td>905 - ULTRAFERTIL IV</td>\n",
              "      <td>2020-12-31 11:45:00</td>\n",
              "      <td>2021-01-12 16:50:00</td>\n",
              "      <td>GRANELEIRO</td>\n",
              "      <td>14.5</td>\n",
              "      <td>229</td>\n",
              "      <td>32.3</td>\n",
              "      <td>GS - GRANEL SOLIDO</td>\n",
              "      <td>921.0</td>\n",
              "    </tr>\n",
              "  </tbody>\n",
              "</table>\n",
              "<p>8030 rows × 9 columns</p>\n",
              "</div>"
            ],
            "text/plain": [
              "          LOCAL_ATRACACAO_X  ...  TOTAL_T\n",
              "4          748 - ARMAZEM 38  ...   3879.0\n",
              "5       627 - OUTEIRINHOS 2  ...   5576.0\n",
              "6         412 - ARMAZEM 12A  ...   3450.0\n",
              "7          419 - ARMAZEM 19  ...  11750.0\n",
              "8                 803 - TGG  ...    125.0\n",
              "...                     ...  ...      ...\n",
              "41017   901 - ULTRAFERTIL I  ...   4297.0\n",
              "41018     412 - ARMAZEM 12A  ...  16029.0\n",
              "41019  905 - ULTRAFERTIL IV  ...   4524.0\n",
              "41020       213 - SABOO III  ...   1663.0\n",
              "41026  905 - ULTRAFERTIL IV  ...    921.0\n",
              "\n",
              "[8030 rows x 9 columns]"
            ]
          },
          "metadata": {
            "tags": []
          },
          "execution_count": 8
        }
      ]
    },
    {
      "cell_type": "code",
      "metadata": {
        "id": "2ma-AZv2zD2u"
      },
      "source": [
        "x['tempo_atracacao'] = x['LOCAL_ATRACACAO_DATA_TERMINO'] -x['LOCAL_ATRACACAO_DATA_INICIO']"
      ],
      "execution_count": 9,
      "outputs": []
    },
    {
      "cell_type": "code",
      "metadata": {
        "id": "MuUDXbv2zD2u"
      },
      "source": [
        "x['tempo_atracacao_horas']=x['tempo_atracacao'] / np.timedelta64(1,'h')"
      ],
      "execution_count": 10,
      "outputs": []
    },
    {
      "cell_type": "code",
      "metadata": {
        "id": "8eJRCuMxzD2u"
      },
      "source": [
        "x['taxa_tonh'] = x['TOTAL_T'] / x['tempo_atracacao_horas']"
      ],
      "execution_count": 11,
      "outputs": []
    },
    {
      "cell_type": "code",
      "metadata": {
        "id": "gXYh4d7YJmiN"
      },
      "source": [
        "x = x[x.tempo_atracacao_horas != 0]"
      ],
      "execution_count": 12,
      "outputs": []
    },
    {
      "cell_type": "code",
      "metadata": {
        "id": "V41cljBuzD2u",
        "colab": {
          "base_uri": "https://localhost:8080/"
        },
        "outputId": "20d04ac1-1e59-4fa0-e8a6-a503ce5a892b"
      },
      "source": [
        "x.info()"
      ],
      "execution_count": 13,
      "outputs": [
        {
          "output_type": "stream",
          "text": [
            "<class 'pandas.core.frame.DataFrame'>\n",
            "Int64Index: 8026 entries, 4 to 41026\n",
            "Data columns (total 12 columns):\n",
            " #   Column                        Non-Null Count  Dtype          \n",
            "---  ------                        --------------  -----          \n",
            " 0   LOCAL_ATRACACAO_X             8026 non-null   object         \n",
            " 1   LOCAL_ATRACACAO_DATA_INICIO   8026 non-null   datetime64[ns] \n",
            " 2   LOCAL_ATRACACAO_DATA_TERMINO  8026 non-null   datetime64[ns] \n",
            " 3   NAVIO_CLASSE                  8026 non-null   object         \n",
            " 4   NAVIO_CALADO                  8026 non-null   float64        \n",
            " 5   NAVIO_COMPRIMENTO             8026 non-null   int64          \n",
            " 6   NAVIO_LARGURA                 8026 non-null   float64        \n",
            " 7   CARGA_NATUREZA_X              8026 non-null   object         \n",
            " 8   TOTAL_T                       8026 non-null   float64        \n",
            " 9   tempo_atracacao               8026 non-null   timedelta64[ns]\n",
            " 10  tempo_atracacao_horas         8026 non-null   float64        \n",
            " 11  taxa_tonh                     8026 non-null   float64        \n",
            "dtypes: datetime64[ns](2), float64(5), int64(1), object(3), timedelta64[ns](1)\n",
            "memory usage: 815.1+ KB\n"
          ],
          "name": "stdout"
        }
      ]
    },
    {
      "cell_type": "code",
      "metadata": {
        "id": "FKlshutgWzks"
      },
      "source": [
        "\n"
      ],
      "execution_count": 13,
      "outputs": []
    },
    {
      "cell_type": "markdown",
      "metadata": {
        "id": "u6YUIKWJzD2u"
      },
      "source": [
        "### Remoção de colunas e filtro de Granel sólido"
      ]
    },
    {
      "cell_type": "markdown",
      "metadata": {
        "id": "9qFQ9VDwXgWc"
      },
      "source": [
        "Quais são os atributos (features)?"
      ]
    },
    {
      "cell_type": "code",
      "metadata": {
        "id": "IXgo5SwVzD2v"
      },
      "source": [
        ""
      ],
      "execution_count": 13,
      "outputs": []
    },
    {
      "cell_type": "code",
      "metadata": {
        "id": "GnXYH6ALW4lK",
        "colab": {
          "base_uri": "https://localhost:8080/"
        },
        "outputId": "b53c6354-20fd-4f7e-fcfa-97d20de2b538"
      },
      "source": [
        "x.TOTAL_T.count()\n",
        "\n"
      ],
      "execution_count": 14,
      "outputs": [
        {
          "output_type": "execute_result",
          "data": {
            "text/plain": [
              "8026"
            ]
          },
          "metadata": {
            "tags": []
          },
          "execution_count": 14
        }
      ]
    },
    {
      "cell_type": "code",
      "metadata": {
        "id": "ueGp4kpXXtKr",
        "colab": {
          "base_uri": "https://localhost:8080/"
        },
        "outputId": "c5665b18-0004-4a66-f992-cc3864fce870"
      },
      "source": [
        "x.LOCAL_ATRACACAO_DATA_INICIO.count()\n",
        "\n"
      ],
      "execution_count": 15,
      "outputs": [
        {
          "output_type": "execute_result",
          "data": {
            "text/plain": [
              "8026"
            ]
          },
          "metadata": {
            "tags": []
          },
          "execution_count": 15
        }
      ]
    },
    {
      "cell_type": "markdown",
      "metadata": {
        "id": "Brk2h4GKXkia"
      },
      "source": [
        "Qual é o atributo alvo?"
      ]
    },
    {
      "cell_type": "code",
      "metadata": {
        "id": "TaEPOf95XnYh"
      },
      "source": [
        "y = x.taxa_tonh\n",
        "\n"
      ],
      "execution_count": 16,
      "outputs": []
    },
    {
      "cell_type": "markdown",
      "metadata": {
        "id": "EuOHRyG1X7oX"
      },
      "source": [
        "#Caracterização de dados"
      ]
    },
    {
      "cell_type": "code",
      "metadata": {
        "id": "v5bAryQ2zD2v",
        "colab": {
          "base_uri": "https://localhost:8080/"
        },
        "outputId": "a18c005b-3023-4ee0-90ba-a174aa1261be"
      },
      "source": [
        "x.dtypes\n"
      ],
      "execution_count": 17,
      "outputs": [
        {
          "output_type": "execute_result",
          "data": {
            "text/plain": [
              "LOCAL_ATRACACAO_X                        object\n",
              "LOCAL_ATRACACAO_DATA_INICIO      datetime64[ns]\n",
              "LOCAL_ATRACACAO_DATA_TERMINO     datetime64[ns]\n",
              "NAVIO_CLASSE                             object\n",
              "NAVIO_CALADO                            float64\n",
              "NAVIO_COMPRIMENTO                         int64\n",
              "NAVIO_LARGURA                           float64\n",
              "CARGA_NATUREZA_X                         object\n",
              "TOTAL_T                                 float64\n",
              "tempo_atracacao                 timedelta64[ns]\n",
              "tempo_atracacao_horas                   float64\n",
              "taxa_tonh                               float64\n",
              "dtype: object"
            ]
          },
          "metadata": {
            "tags": []
          },
          "execution_count": 17
        }
      ]
    },
    {
      "cell_type": "markdown",
      "metadata": {
        "id": "SFd5kmCpYtH1"
      },
      "source": [
        "#Tipos de atributos"
      ]
    },
    {
      "cell_type": "markdown",
      "metadata": {
        "id": "TVSg3jf6YyB0"
      },
      "source": [
        "Qualitativos nominais"
      ]
    },
    {
      "cell_type": "code",
      "metadata": {
        "id": "tnouIqDpY43k",
        "colab": {
          "base_uri": "https://localhost:8080/"
        },
        "outputId": "fa943f0e-edc4-48b5-e4ce-a57397231c3f"
      },
      "source": [
        "print('LOCAL_ATRACACAO_X', pd.unique(x.LOCAL_ATRACACAO_X))"
      ],
      "execution_count": 18,
      "outputs": [
        {
          "output_type": "stream",
          "text": [
            "LOCAL_ATRACACAO_X ['748 - ARMAZEM 38' '627 - OUTEIRINHOS 2' '412 - ARMAZEM 12A'\n",
            " '419 - ARMAZEM 19' '803 - TGG' '941 - TEAG' '416 - ARMAZEM 16/17'\n",
            " '759 - ARMAZEM 39' '420 - ARMAZEM 20/21' '942 - TEG' '422 - ARMAZEM 22'\n",
            " '804 - TERMAG' '413 - ARMAZEM13/14' '901 - ULTRAFERTIL I'\n",
            " '630 - ARMAZEM 29/30' '423 - ARMAZEM 23' '641 - ARMAZEM 31'\n",
            " '626 - OUTEIRINHOS 3' '652 - ARMAZEM 32' '931 - CUTRALE'\n",
            " '653 - ARMAZEM 33' '415 - ARMAZEM 15' '914 - USIMINAS IV'\n",
            " '525 - ARMAZEM 25' '111 - I. BARNABE SP' '903 - ULTRAFERTIL II'\n",
            " '640 - ARMAZEM 30' '524 - FRIGORIFICO' '904 - ULTRAFERTIL III'\n",
            " '310 - VALONGO' '905 - ULTRAFERTIL IV' '212 - SABOO II' '213 - SABOO III'\n",
            " '915 - USIMINAS V' '629 - ARMAZEM 29' '103 - ALAMOA III'\n",
            " '104 - ALAMOA IV' '112 - I. BARNABE BC' '102 - ALAMOA II' '910 - AGEO I'\n",
            " '665 - ARMAZEM 35' '211 - SABOO I']\n"
          ],
          "name": "stdout"
        }
      ]
    },
    {
      "cell_type": "code",
      "metadata": {
        "id": "EEP6ahiMaAR9",
        "colab": {
          "base_uri": "https://localhost:8080/"
        },
        "outputId": "4bc4537e-11fb-434f-abfa-306e1c676f2c"
      },
      "source": [
        "print('NAVIO_CLASSE', pd.unique(x.NAVIO_CLASSE ))"
      ],
      "execution_count": 19,
      "outputs": [
        {
          "output_type": "stream",
          "text": [
            "NAVIO_CLASSE ['GRANELEIRO' 'CARGUEIRO COMUM' 'PETROLEIRO' 'PORTA-CONTAINERS'\n",
            " 'GAS LIQUEFEITO' 'QUIMICO']\n"
          ],
          "name": "stdout"
        }
      ]
    },
    {
      "cell_type": "code",
      "metadata": {
        "id": "wvpCHRq2aO0s",
        "colab": {
          "base_uri": "https://localhost:8080/"
        },
        "outputId": "bc1fabb4-ea15-46cf-d997-25633152fbfe"
      },
      "source": [
        "print('CARGA_NATUREZA_X', pd.unique(x.CARGA_NATUREZA_X))"
      ],
      "execution_count": 20,
      "outputs": [
        {
          "output_type": "stream",
          "text": [
            "CARGA_NATUREZA_X ['GS - GRANEL SOLIDO']\n"
          ],
          "name": "stdout"
        }
      ]
    },
    {
      "cell_type": "markdown",
      "metadata": {
        "id": "-By4wGUAeWvu"
      },
      "source": [
        "Quantitativo contínuo"
      ]
    },
    {
      "cell_type": "code",
      "metadata": {
        "id": "u7Lh2cT2eZcp",
        "colab": {
          "base_uri": "https://localhost:8080/"
        },
        "outputId": "6c8181d7-3e2c-4a9e-b790-36c874b7d062"
      },
      "source": [
        "print('NAVIO_CALADO', pd.unique(x.NAVIO_CALADO), '\\n \\n NAVIO_COMPRIMENTO', pd.unique(x.NAVIO_COMPRIMENTO), '\\n \\n NAVIO_LARGURA', pd.unique(x.NAVIO_LARGURA), '\\n \\n TOTAL_T', pd.unique(x.TOTAL_T), '\\n \\n PRODUTIVIDADE', pd.unique(x.taxa_tonh))"
      ],
      "execution_count": 21,
      "outputs": [
        {
          "output_type": "stream",
          "text": [
            "NAVIO_CALADO [  14.6   13.3   14.9   13.4   14.4   13.    12.5   14.2   12.9   14.\n",
            "   14.1   12.8   10.    14.3   10.5    9.5   12.3    9.8   10.4   13.8\n",
            "   36.1   14.7   12.7   14.5    9.7   12.6    9.    11.6   12.     8.5\n",
            "   13.5   10.7   11.    11.8   10.1   10.6   10.9   12.2   10.2   11.3\n",
            "   11.4   10.8   10.3   12.4    9.6   13.9   15.    11.9    9.9   12.1\n",
            "   14.8   13.6   13.2   13.7   32.3    9.1   11.7   13.1    9.4    8.4\n",
            "   19.5   18.    28.2    8.7   11.1   30.4    8.3   42.8   11.5    8.6\n",
            "    1.5    0.     9.3   15.6    8.    20.5   18.6   20.1   18.7  105.\n",
            "    9.2   18.5   23.3 1054. ] \n",
            " \n",
            " NAVIO_COMPRIMENTO [229 200 190 225 177 180 181 183 179 210 230 240 169 224 198 140 170 189\n",
            " 188 199 187 178 186 197 182 235 176 196 254 168 226 154 193 166 192 160\n",
            " 165 155 260 216 237 185 191 171 201 158 172 213 175 206 132 157 151 223\n",
            " 228 204 195 250 214 167 150 145 218 153 245 161 159 174 163 139 146 142\n",
            " 234 144 202 264 217 141 120] \n",
            " \n",
            " NAVIO_LARGURA [32.3 38.  32.2 36.8 32.  36.5 28.4 30.  28.  28.2 28.5 29.5 36.  36.9\n",
            " 27.2 29.8 27.  25.  31.  30.4 37.  24.  30.5 28.6 23.7 28.3 28.8 29.4\n",
            " 43.  26.  40.  27.8 30.6 29.  23.6 14.5  0.  27.7 35.4 23.8 23.  26.8\n",
            " 24.4 32.7 35.  37.2 19.  15.  27.5 31.9 32.4 30.8 26.2 32.1 32.6 25.8\n",
            " 21.  31.3 20.2 14.4 26.7 39.  23.9 23.2 27.1 18.3 22.8 29.1 26.6 34.5\n",
            " 29.9 22.6 35.5 24.2  3.  33.  22.  17.  31.8] \n",
            " \n",
            " TOTAL_T [3879. 5576. 3450. ... 4524. 1663.  921.] \n",
            " \n",
            " PRODUTIVIDADE [ 14.17849528  27.15584416  17.63953984 ... 408.18045113   8.70300916\n",
            "   3.14245095]\n"
          ],
          "name": "stdout"
        }
      ]
    },
    {
      "cell_type": "markdown",
      "metadata": {
        "id": "CtbKIRo1f9YZ"
      },
      "source": [
        "##Escala intervalar \n",
        "\n",
        "LOCAL_ATRACACAO_DATA_INICIO      \n",
        "LOCAL_ATRACACAO_DATA_TERMINO     \n",
        "\n",
        "##Escala racional\n",
        "\n",
        "NAVIO_CALADO                            \n",
        "NAVIO_COMPRIMENTO                       \n",
        "NAVIO_LARGURA                           \n",
        "TOTAL_T                                "
      ]
    },
    {
      "cell_type": "markdown",
      "metadata": {
        "id": "RTpzxP-VgoNO"
      },
      "source": [
        "##Frequência"
      ]
    },
    {
      "cell_type": "code",
      "metadata": {
        "id": "DBTAQOImzD2w",
        "colab": {
          "base_uri": "https://localhost:8080/"
        },
        "outputId": "a6eef3e7-6026-46d8-e406-9d72ae626936"
      },
      "source": [
        "print(x.CARGA_NATUREZA_X.value_counts()) \n"
      ],
      "execution_count": 22,
      "outputs": [
        {
          "output_type": "stream",
          "text": [
            "GS - GRANEL SOLIDO    8026\n",
            "Name: CARGA_NATUREZA_X, dtype: int64\n"
          ],
          "name": "stdout"
        }
      ]
    },
    {
      "cell_type": "code",
      "metadata": {
        "id": "3N61nIjJQJ9U",
        "colab": {
          "base_uri": "https://localhost:8080/"
        },
        "outputId": "7b5aad28-9195-425a-bab6-bf1fb2dcf25e"
      },
      "source": [
        "print(x.LOCAL_ATRACACAO_X.value_counts(),'\\n \\n', x.NAVIO_CLASSE.value_counts(),'\\n \\n', x.NAVIO_CALADO.value_counts())"
      ],
      "execution_count": 23,
      "outputs": [
        {
          "output_type": "stream",
          "text": [
            "416 - ARMAZEM 16/17      752\n",
            "420 - ARMAZEM 20/21      679\n",
            "803 - TGG                651\n",
            "748 - ARMAZEM 38         646\n",
            "419 - ARMAZEM 19         609\n",
            "759 - ARMAZEM 39         432\n",
            "901 - ULTRAFERTIL I      405\n",
            "942 - TEG                397\n",
            "804 - TERMAG             383\n",
            "412 - ARMAZEM 12A        343\n",
            "904 - ULTRAFERTIL III    338\n",
            "941 - TEAG               314\n",
            "903 - ULTRAFERTIL II     308\n",
            "423 - ARMAZEM 23         269\n",
            "413 - ARMAZEM13/14       234\n",
            "626 - OUTEIRINHOS 3      202\n",
            "931 - CUTRALE            149\n",
            "630 - ARMAZEM 29/30      131\n",
            "905 - ULTRAFERTIL IV     130\n",
            "525 - ARMAZEM 25          84\n",
            "212 - SABOO II            76\n",
            "653 - ARMAZEM 33          76\n",
            "422 - ARMAZEM 22          68\n",
            "213 - SABOO III           66\n",
            "415 - ARMAZEM 15          58\n",
            "914 - USIMINAS IV         56\n",
            "627 - OUTEIRINHOS 2       39\n",
            "652 - ARMAZEM 32          22\n",
            "112 - I. BARNABE BC       21\n",
            "103 - ALAMOA III          18\n",
            "111 - I. BARNABE SP       17\n",
            "104 - ALAMOA IV           15\n",
            "641 - ARMAZEM 31          12\n",
            "524 - FRIGORIFICO          9\n",
            "665 - ARMAZEM 35           6\n",
            "640 - ARMAZEM 30           3\n",
            "915 - USIMINAS V           2\n",
            "910 - AGEO I               2\n",
            "629 - ARMAZEM 29           1\n",
            "102 - ALAMOA II            1\n",
            "310 - VALONGO              1\n",
            "211 - SABOO I              1\n",
            "Name: LOCAL_ATRACACAO_X, dtype: int64 \n",
            " \n",
            " GRANELEIRO          7669\n",
            "CARGUEIRO COMUM      278\n",
            "PETROLEIRO            76\n",
            "GAS LIQUEFEITO         1\n",
            "QUIMICO                1\n",
            "PORTA-CONTAINERS       1\n",
            "Name: NAVIO_CLASSE, dtype: int64 \n",
            " \n",
            " 14.5      996\n",
            "14.4      660\n",
            "13.0      549\n",
            "13.3      507\n",
            "12.8      485\n",
            "         ... \n",
            "20.1        1\n",
            "23.3        1\n",
            "9.3         1\n",
            "9.4         1\n",
            "1054.0      1\n",
            "Name: NAVIO_CALADO, Length: 84, dtype: int64\n"
          ],
          "name": "stdout"
        }
      ]
    },
    {
      "cell_type": "code",
      "metadata": {
        "id": "xCKAV5aLeXVi"
      },
      "source": [
        ""
      ],
      "execution_count": 23,
      "outputs": []
    },
    {
      "cell_type": "markdown",
      "metadata": {
        "id": "QtZj3tl4hycd"
      },
      "source": [
        "##Localidade"
      ]
    },
    {
      "cell_type": "code",
      "metadata": {
        "id": "zXEzLOQWBNWR",
        "colab": {
          "base_uri": "https://localhost:8080/",
          "height": 297
        },
        "outputId": "8968ee91-29ba-48eb-9354-b921186947b0"
      },
      "source": [
        "x.describe()"
      ],
      "execution_count": 24,
      "outputs": [
        {
          "output_type": "execute_result",
          "data": {
            "text/html": [
              "<div>\n",
              "<style scoped>\n",
              "    .dataframe tbody tr th:only-of-type {\n",
              "        vertical-align: middle;\n",
              "    }\n",
              "\n",
              "    .dataframe tbody tr th {\n",
              "        vertical-align: top;\n",
              "    }\n",
              "\n",
              "    .dataframe thead th {\n",
              "        text-align: right;\n",
              "    }\n",
              "</style>\n",
              "<table border=\"1\" class=\"dataframe\">\n",
              "  <thead>\n",
              "    <tr style=\"text-align: right;\">\n",
              "      <th></th>\n",
              "      <th>NAVIO_CALADO</th>\n",
              "      <th>NAVIO_COMPRIMENTO</th>\n",
              "      <th>NAVIO_LARGURA</th>\n",
              "      <th>TOTAL_T</th>\n",
              "      <th>tempo_atracacao</th>\n",
              "      <th>tempo_atracacao_horas</th>\n",
              "      <th>taxa_tonh</th>\n",
              "    </tr>\n",
              "  </thead>\n",
              "  <tbody>\n",
              "    <tr>\n",
              "      <th>count</th>\n",
              "      <td>8026.000000</td>\n",
              "      <td>8026.000000</td>\n",
              "      <td>8026.000000</td>\n",
              "      <td>8026.000000</td>\n",
              "      <td>8026</td>\n",
              "      <td>8026.000000</td>\n",
              "      <td>8026.000000</td>\n",
              "    </tr>\n",
              "    <tr>\n",
              "      <th>mean</th>\n",
              "      <td>13.101271</td>\n",
              "      <td>205.534513</td>\n",
              "      <td>31.649489</td>\n",
              "      <td>40064.920508</td>\n",
              "      <td>3 days 05:30:59.125342636</td>\n",
              "      <td>77.516424</td>\n",
              "      <td>674.101035</td>\n",
              "    </tr>\n",
              "    <tr>\n",
              "      <th>std</th>\n",
              "      <td>11.872397</td>\n",
              "      <td>20.981757</td>\n",
              "      <td>2.415438</td>\n",
              "      <td>21576.345893</td>\n",
              "      <td>2 days 11:01:59.377694033</td>\n",
              "      <td>59.033160</td>\n",
              "      <td>435.885903</td>\n",
              "    </tr>\n",
              "    <tr>\n",
              "      <th>min</th>\n",
              "      <td>0.000000</td>\n",
              "      <td>120.000000</td>\n",
              "      <td>0.000000</td>\n",
              "      <td>26.000000</td>\n",
              "      <td>0 days 05:45:00</td>\n",
              "      <td>5.750000</td>\n",
              "      <td>1.268293</td>\n",
              "    </tr>\n",
              "    <tr>\n",
              "      <th>25%</th>\n",
              "      <td>12.000000</td>\n",
              "      <td>190.000000</td>\n",
              "      <td>32.000000</td>\n",
              "      <td>21469.250000</td>\n",
              "      <td>1 days 17:20:00</td>\n",
              "      <td>41.333333</td>\n",
              "      <td>312.779762</td>\n",
              "    </tr>\n",
              "    <tr>\n",
              "      <th>50%</th>\n",
              "      <td>13.300000</td>\n",
              "      <td>200.000000</td>\n",
              "      <td>32.300000</td>\n",
              "      <td>36000.000000</td>\n",
              "      <td>2 days 16:20:00</td>\n",
              "      <td>64.333333</td>\n",
              "      <td>603.348931</td>\n",
              "    </tr>\n",
              "    <tr>\n",
              "      <th>75%</th>\n",
              "      <td>14.400000</td>\n",
              "      <td>229.000000</td>\n",
              "      <td>32.300000</td>\n",
              "      <td>62493.750000</td>\n",
              "      <td>4 days 01:00:00</td>\n",
              "      <td>97.000000</td>\n",
              "      <td>968.905497</td>\n",
              "    </tr>\n",
              "    <tr>\n",
              "      <th>max</th>\n",
              "      <td>1054.000000</td>\n",
              "      <td>264.000000</td>\n",
              "      <td>43.000000</td>\n",
              "      <td>102225.000000</td>\n",
              "      <td>94 days 05:30:00</td>\n",
              "      <td>2261.500000</td>\n",
              "      <td>2654.705882</td>\n",
              "    </tr>\n",
              "  </tbody>\n",
              "</table>\n",
              "</div>"
            ],
            "text/plain": [
              "       NAVIO_CALADO  NAVIO_COMPRIMENTO  ...  tempo_atracacao_horas    taxa_tonh\n",
              "count   8026.000000        8026.000000  ...            8026.000000  8026.000000\n",
              "mean      13.101271         205.534513  ...              77.516424   674.101035\n",
              "std       11.872397          20.981757  ...              59.033160   435.885903\n",
              "min        0.000000         120.000000  ...               5.750000     1.268293\n",
              "25%       12.000000         190.000000  ...              41.333333   312.779762\n",
              "50%       13.300000         200.000000  ...              64.333333   603.348931\n",
              "75%       14.400000         229.000000  ...              97.000000   968.905497\n",
              "max     1054.000000         264.000000  ...            2261.500000  2654.705882\n",
              "\n",
              "[8 rows x 7 columns]"
            ]
          },
          "metadata": {
            "tags": []
          },
          "execution_count": 24
        }
      ]
    },
    {
      "cell_type": "markdown",
      "metadata": {
        "id": "9rP58ThCizMV"
      },
      "source": [
        "###Boxplot"
      ]
    },
    {
      "cell_type": "code",
      "metadata": {
        "id": "5_d_xqPuzD2w"
      },
      "source": [
        ""
      ],
      "execution_count": 24,
      "outputs": []
    },
    {
      "cell_type": "markdown",
      "metadata": {
        "id": "I_NQZoBXlqjd"
      },
      "source": [
        "##Espalhamento"
      ]
    },
    {
      "cell_type": "code",
      "metadata": {
        "id": "iNyLyeRDllNj",
        "colab": {
          "base_uri": "https://localhost:8080/"
        },
        "outputId": "bdfb0d45-6cb6-414d-93f2-ad5ac89975f0"
      },
      "source": [
        "print(x.tempo_atracacao_horas.max() - x.tempo_atracacao_horas.min())\n",
        "\n"
      ],
      "execution_count": 25,
      "outputs": [
        {
          "output_type": "stream",
          "text": [
            "2255.75\n"
          ],
          "name": "stdout"
        }
      ]
    },
    {
      "cell_type": "code",
      "metadata": {
        "id": "r4Ee81yGn_xe",
        "colab": {
          "base_uri": "https://localhost:8080/"
        },
        "outputId": "4c59ac0f-3ff4-4eee-8ffd-5455ba464656"
      },
      "source": [
        "print(x.tempo_atracacao_horas.var())"
      ],
      "execution_count": 26,
      "outputs": [
        {
          "output_type": "stream",
          "text": [
            "3484.9140351434594\n"
          ],
          "name": "stdout"
        }
      ]
    },
    {
      "cell_type": "markdown",
      "metadata": {
        "id": "X0EiF51oocXE"
      },
      "source": [
        "##Distribuição\n"
      ]
    },
    {
      "cell_type": "code",
      "metadata": {
        "id": "ft2-ve33oeWs",
        "colab": {
          "base_uri": "https://localhost:8080/"
        },
        "outputId": "8d0ddff6-4b35-4b21-f994-12ed81431511"
      },
      "source": [
        "print(x.tempo_atracacao_horas.skew())"
      ],
      "execution_count": 27,
      "outputs": [
        {
          "output_type": "stream",
          "text": [
            "8.004008413417134\n"
          ],
          "name": "stdout"
        }
      ]
    },
    {
      "cell_type": "code",
      "metadata": {
        "id": "VleaISc-prHt",
        "colab": {
          "base_uri": "https://localhost:8080/"
        },
        "outputId": "36aa9b8d-82a8-4a32-9bdd-99f779843961"
      },
      "source": [
        "print(x.tempo_atracacao_horas.kurtosis())"
      ],
      "execution_count": 28,
      "outputs": [
        {
          "output_type": "stream",
          "text": [
            "238.84536678176917\n"
          ],
          "name": "stdout"
        }
      ]
    },
    {
      "cell_type": "code",
      "metadata": {
        "id": "E3C4J0Papv4E",
        "colab": {
          "base_uri": "https://localhost:8080/",
          "height": 265
        },
        "outputId": "45700deb-b2f6-4e17-c779-039f1f821e76"
      },
      "source": [
        "import matplotlib.pyplot as plt\n",
        "\n",
        "plt.hist(x.tempo_atracacao_horas[~np.isnan(x.tempo_atracacao_horas)],50)\n",
        "plt.show()"
      ],
      "execution_count": 29,
      "outputs": [
        {
          "output_type": "display_data",
          "data": {
            "image/png": "[encoded data removed]",
            "text/plain": [
              "<Figure size 432x288 with 1 Axes>"
            ]
          },
          "metadata": {
            "tags": [],
            "needs_background": "light"
          }
        }
      ]
    },
    {
      "cell_type": "code",
      "metadata": {
        "id": "dmwC7I2azD2x",
        "colab": {
          "base_uri": "https://localhost:8080/",
          "height": 679
        },
        "outputId": "0f6f4ca2-fc2a-431d-e777-68de5283cef6"
      },
      "source": [
        "import seaborn as sns\n",
        "corr = x.corr()\n",
        "\n",
        "# Generate a mask for the upper triangle \n",
        "mask = np.triu(np.ones_like(corr, dtype=np.bool)) \n",
        "# Set up the matplotlib figure \n",
        "f, ax = plt.subplots(figsize=(11, 9)) \n",
        "# Generate a custom diverging colormap \n",
        "cmap = sns.diverging_palette(220, 10, as_cmap=True) \n",
        "# Draw the heatmap with the mask and correct aspect ratio \n",
        "sns.heatmap(corr, mask=mask, cmap=cmap, vmax=.3, center=0, square=True, linewidths=.5, cbar_kws={\"shrink\": .5})\n",
        "ax.set_title('Matriz de Correlação')"
      ],
      "execution_count": 30,
      "outputs": [
        {
          "output_type": "execute_result",
          "data": {
            "text/plain": [
              "Text(0.5, 1.0, 'Matriz de Correlação')"
            ]
          },
          "metadata": {
            "tags": []
          },
          "execution_count": 30
        },
        {
          "output_type": "display_data",
          "data": {
            "image/png": "[encoded data removed]",
            "text/plain": [
              "<Figure size 792x648 with 2 Axes>"
            ]
          },
          "metadata": {
            "tags": [],
            "needs_background": "light"
          }
        }
      ]
    },
    {
      "cell_type": "code",
      "metadata": {
        "id": "hNsZIpJJnJyK",
        "colab": {
          "base_uri": "https://localhost:8080/"
        },
        "outputId": "940dcd03-085f-4575-efac-370da6d4af29"
      },
      "source": [
        "x.columns"
      ],
      "execution_count": 31,
      "outputs": [
        {
          "output_type": "execute_result",
          "data": {
            "text/plain": [
              "Index(['LOCAL_ATRACACAO_X', 'LOCAL_ATRACACAO_DATA_INICIO',\n",
              "       'LOCAL_ATRACACAO_DATA_TERMINO', 'NAVIO_CLASSE', 'NAVIO_CALADO',\n",
              "       'NAVIO_COMPRIMENTO', 'NAVIO_LARGURA', 'CARGA_NATUREZA_X', 'TOTAL_T',\n",
              "       'tempo_atracacao', 'tempo_atracacao_horas', 'taxa_tonh'],\n",
              "      dtype='object')"
            ]
          },
          "metadata": {
            "tags": []
          },
          "execution_count": 31
        }
      ]
    },
    {
      "cell_type": "code",
      "metadata": {
        "id": "SrGY4qXWQ35O",
        "colab": {
          "base_uri": "https://localhost:8080/",
          "height": 609
        },
        "outputId": "3560caa5-3ac7-4a80-f7a0-80610c35c376"
      },
      "source": [
        "#excluindo outliers de tempo de atracacao\n",
        "x= x[(x['tempo_atracacao_horas'] <= 600) ]\n",
        "x"
      ],
      "execution_count": 32,
      "outputs": [
        {
          "output_type": "execute_result",
          "data": {
            "text/html": [
              "<div>\n",
              "<style scoped>\n",
              "    .dataframe tbody tr th:only-of-type {\n",
              "        vertical-align: middle;\n",
              "    }\n",
              "\n",
              "    .dataframe tbody tr th {\n",
              "        vertical-align: top;\n",
              "    }\n",
              "\n",
              "    .dataframe thead th {\n",
              "        text-align: right;\n",
              "    }\n",
              "</style>\n",
              "<table border=\"1\" class=\"dataframe\">\n",
              "  <thead>\n",
              "    <tr style=\"text-align: right;\">\n",
              "      <th></th>\n",
              "      <th>LOCAL_ATRACACAO_X</th>\n",
              "      <th>LOCAL_ATRACACAO_DATA_INICIO</th>\n",
              "      <th>LOCAL_ATRACACAO_DATA_TERMINO</th>\n",
              "      <th>NAVIO_CLASSE</th>\n",
              "      <th>NAVIO_CALADO</th>\n",
              "      <th>NAVIO_COMPRIMENTO</th>\n",
              "      <th>NAVIO_LARGURA</th>\n",
              "      <th>CARGA_NATUREZA_X</th>\n",
              "      <th>TOTAL_T</th>\n",
              "      <th>tempo_atracacao</th>\n",
              "      <th>tempo_atracacao_horas</th>\n",
              "      <th>taxa_tonh</th>\n",
              "    </tr>\n",
              "  </thead>\n",
              "  <tbody>\n",
              "    <tr>\n",
              "      <th>4</th>\n",
              "      <td>748 - ARMAZEM 38</td>\n",
              "      <td>2015-12-24 16:40:00</td>\n",
              "      <td>2016-01-05 02:15:00</td>\n",
              "      <td>GRANELEIRO</td>\n",
              "      <td>14.6</td>\n",
              "      <td>229</td>\n",
              "      <td>32.3</td>\n",
              "      <td>GS - GRANEL SOLIDO</td>\n",
              "      <td>3879.0</td>\n",
              "      <td>11 days 09:35:00</td>\n",
              "      <td>273.583333</td>\n",
              "      <td>14.178495</td>\n",
              "    </tr>\n",
              "    <tr>\n",
              "      <th>5</th>\n",
              "      <td>627 - OUTEIRINHOS 2</td>\n",
              "      <td>2015-12-27 00:15:00</td>\n",
              "      <td>2016-01-04 13:35:00</td>\n",
              "      <td>GRANELEIRO</td>\n",
              "      <td>13.3</td>\n",
              "      <td>200</td>\n",
              "      <td>32.3</td>\n",
              "      <td>GS - GRANEL SOLIDO</td>\n",
              "      <td>5576.0</td>\n",
              "      <td>8 days 13:20:00</td>\n",
              "      <td>205.333333</td>\n",
              "      <td>27.155844</td>\n",
              "    </tr>\n",
              "    <tr>\n",
              "      <th>6</th>\n",
              "      <td>412 - ARMAZEM 12A</td>\n",
              "      <td>2015-12-27 23:15:00</td>\n",
              "      <td>2016-01-05 02:50:00</td>\n",
              "      <td>GRANELEIRO</td>\n",
              "      <td>14.9</td>\n",
              "      <td>229</td>\n",
              "      <td>38.0</td>\n",
              "      <td>GS - GRANEL SOLIDO</td>\n",
              "      <td>3450.0</td>\n",
              "      <td>8 days 03:35:00</td>\n",
              "      <td>195.583333</td>\n",
              "      <td>17.639540</td>\n",
              "    </tr>\n",
              "    <tr>\n",
              "      <th>7</th>\n",
              "      <td>419 - ARMAZEM 19</td>\n",
              "      <td>2015-12-29 13:35:00</td>\n",
              "      <td>2016-01-04 14:10:00</td>\n",
              "      <td>GRANELEIRO</td>\n",
              "      <td>13.4</td>\n",
              "      <td>190</td>\n",
              "      <td>32.3</td>\n",
              "      <td>GS - GRANEL SOLIDO</td>\n",
              "      <td>11750.0</td>\n",
              "      <td>6 days 00:35:00</td>\n",
              "      <td>144.583333</td>\n",
              "      <td>81.268012</td>\n",
              "    </tr>\n",
              "    <tr>\n",
              "      <th>8</th>\n",
              "      <td>803 - TGG</td>\n",
              "      <td>2015-12-29 21:30:00</td>\n",
              "      <td>2016-01-02 14:30:00</td>\n",
              "      <td>GRANELEIRO</td>\n",
              "      <td>14.4</td>\n",
              "      <td>225</td>\n",
              "      <td>32.2</td>\n",
              "      <td>GS - GRANEL SOLIDO</td>\n",
              "      <td>125.0</td>\n",
              "      <td>3 days 17:00:00</td>\n",
              "      <td>89.000000</td>\n",
              "      <td>1.404494</td>\n",
              "    </tr>\n",
              "    <tr>\n",
              "      <th>...</th>\n",
              "      <td>...</td>\n",
              "      <td>...</td>\n",
              "      <td>...</td>\n",
              "      <td>...</td>\n",
              "      <td>...</td>\n",
              "      <td>...</td>\n",
              "      <td>...</td>\n",
              "      <td>...</td>\n",
              "      <td>...</td>\n",
              "      <td>...</td>\n",
              "      <td>...</td>\n",
              "      <td>...</td>\n",
              "    </tr>\n",
              "    <tr>\n",
              "      <th>41017</th>\n",
              "      <td>901 - ULTRAFERTIL I</td>\n",
              "      <td>2020-12-30 20:50:00</td>\n",
              "      <td>2021-01-03 14:55:00</td>\n",
              "      <td>GRANELEIRO</td>\n",
              "      <td>13.3</td>\n",
              "      <td>200</td>\n",
              "      <td>32.3</td>\n",
              "      <td>GS - GRANEL SOLIDO</td>\n",
              "      <td>4297.0</td>\n",
              "      <td>3 days 18:05:00</td>\n",
              "      <td>90.083333</td>\n",
              "      <td>47.700278</td>\n",
              "    </tr>\n",
              "    <tr>\n",
              "      <th>41018</th>\n",
              "      <td>412 - ARMAZEM 12A</td>\n",
              "      <td>2020-12-30 22:10:00</td>\n",
              "      <td>2021-01-05 16:15:00</td>\n",
              "      <td>GRANELEIRO</td>\n",
              "      <td>13.0</td>\n",
              "      <td>196</td>\n",
              "      <td>32.2</td>\n",
              "      <td>GS - GRANEL SOLIDO</td>\n",
              "      <td>16029.0</td>\n",
              "      <td>5 days 18:05:00</td>\n",
              "      <td>138.083333</td>\n",
              "      <td>116.082076</td>\n",
              "    </tr>\n",
              "    <tr>\n",
              "      <th>41019</th>\n",
              "      <td>905 - ULTRAFERTIL IV</td>\n",
              "      <td>2020-12-30 22:45:00</td>\n",
              "      <td>2020-12-31 09:50:00</td>\n",
              "      <td>GRANELEIRO</td>\n",
              "      <td>12.9</td>\n",
              "      <td>200</td>\n",
              "      <td>32.3</td>\n",
              "      <td>GS - GRANEL SOLIDO</td>\n",
              "      <td>4524.0</td>\n",
              "      <td>0 days 11:05:00</td>\n",
              "      <td>11.083333</td>\n",
              "      <td>408.180451</td>\n",
              "    </tr>\n",
              "    <tr>\n",
              "      <th>41020</th>\n",
              "      <td>213 - SABOO III</td>\n",
              "      <td>2020-12-31 00:15:00</td>\n",
              "      <td>2021-01-07 23:20:00</td>\n",
              "      <td>GRANELEIRO</td>\n",
              "      <td>10.5</td>\n",
              "      <td>180</td>\n",
              "      <td>30.0</td>\n",
              "      <td>GS - GRANEL SOLIDO</td>\n",
              "      <td>1663.0</td>\n",
              "      <td>7 days 23:05:00</td>\n",
              "      <td>191.083333</td>\n",
              "      <td>8.703009</td>\n",
              "    </tr>\n",
              "    <tr>\n",
              "      <th>41026</th>\n",
              "      <td>905 - ULTRAFERTIL IV</td>\n",
              "      <td>2020-12-31 11:45:00</td>\n",
              "      <td>2021-01-12 16:50:00</td>\n",
              "      <td>GRANELEIRO</td>\n",
              "      <td>14.5</td>\n",
              "      <td>229</td>\n",
              "      <td>32.3</td>\n",
              "      <td>GS - GRANEL SOLIDO</td>\n",
              "      <td>921.0</td>\n",
              "      <td>12 days 05:05:00</td>\n",
              "      <td>293.083333</td>\n",
              "      <td>3.142451</td>\n",
              "    </tr>\n",
              "  </tbody>\n",
              "</table>\n",
              "<p>8025 rows × 12 columns</p>\n",
              "</div>"
            ],
            "text/plain": [
              "          LOCAL_ATRACACAO_X  ...   taxa_tonh\n",
              "4          748 - ARMAZEM 38  ...   14.178495\n",
              "5       627 - OUTEIRINHOS 2  ...   27.155844\n",
              "6         412 - ARMAZEM 12A  ...   17.639540\n",
              "7          419 - ARMAZEM 19  ...   81.268012\n",
              "8                 803 - TGG  ...    1.404494\n",
              "...                     ...  ...         ...\n",
              "41017   901 - ULTRAFERTIL I  ...   47.700278\n",
              "41018     412 - ARMAZEM 12A  ...  116.082076\n",
              "41019  905 - ULTRAFERTIL IV  ...  408.180451\n",
              "41020       213 - SABOO III  ...    8.703009\n",
              "41026  905 - ULTRAFERTIL IV  ...    3.142451\n",
              "\n",
              "[8025 rows x 12 columns]"
            ]
          },
          "metadata": {
            "tags": []
          },
          "execution_count": 32
        }
      ]
    },
    {
      "cell_type": "code",
      "metadata": {
        "id": "FDDp771DkiyZ"
      },
      "source": [
        "#em razão correlação da taxa_tonh e navio_calado ser quase nula, optei por excluir essa coluna, also, como ja foi filtrado apenas GS - GRANEL SOLIDO, nao é mais necessario carga natureza\n",
        "      #Filter: subsetting or removing observations based on some condition.\n",
        "#Como já foi calculada a taxa_tonh não é mais necessária a tempo_atracação_horas\n",
        "      # Transform: adding or modifying variables. These modifications can involve either a single variable (e.g., log-transformation), or multiple variables (e.g., computing density from weight and volume).\n",
        "x= x.drop(columns=['NAVIO_CALADO','LOCAL_ATRACACAO_DATA_INICIO','LOCAL_ATRACACAO_DATA_TERMINO','tempo_atracacao','CARGA_NATUREZA_X','tempo_atracacao_horas'])\n"
      ],
      "execution_count": 33,
      "outputs": []
    },
    {
      "cell_type": "code",
      "metadata": {
        "id": "FLTtKOlcnyt5",
        "colab": {
          "base_uri": "https://localhost:8080/",
          "height": 204
        },
        "outputId": "7b703013-a0f2-4fe5-d4cb-e4d9c48a32bb"
      },
      "source": [
        "x.head()"
      ],
      "execution_count": 34,
      "outputs": [
        {
          "output_type": "execute_result",
          "data": {
            "text/html": [
              "<div>\n",
              "<style scoped>\n",
              "    .dataframe tbody tr th:only-of-type {\n",
              "        vertical-align: middle;\n",
              "    }\n",
              "\n",
              "    .dataframe tbody tr th {\n",
              "        vertical-align: top;\n",
              "    }\n",
              "\n",
              "    .dataframe thead th {\n",
              "        text-align: right;\n",
              "    }\n",
              "</style>\n",
              "<table border=\"1\" class=\"dataframe\">\n",
              "  <thead>\n",
              "    <tr style=\"text-align: right;\">\n",
              "      <th></th>\n",
              "      <th>LOCAL_ATRACACAO_X</th>\n",
              "      <th>NAVIO_CLASSE</th>\n",
              "      <th>NAVIO_COMPRIMENTO</th>\n",
              "      <th>NAVIO_LARGURA</th>\n",
              "      <th>TOTAL_T</th>\n",
              "      <th>taxa_tonh</th>\n",
              "    </tr>\n",
              "  </thead>\n",
              "  <tbody>\n",
              "    <tr>\n",
              "      <th>4</th>\n",
              "      <td>748 - ARMAZEM 38</td>\n",
              "      <td>GRANELEIRO</td>\n",
              "      <td>229</td>\n",
              "      <td>32.3</td>\n",
              "      <td>3879.0</td>\n",
              "      <td>14.178495</td>\n",
              "    </tr>\n",
              "    <tr>\n",
              "      <th>5</th>\n",
              "      <td>627 - OUTEIRINHOS 2</td>\n",
              "      <td>GRANELEIRO</td>\n",
              "      <td>200</td>\n",
              "      <td>32.3</td>\n",
              "      <td>5576.0</td>\n",
              "      <td>27.155844</td>\n",
              "    </tr>\n",
              "    <tr>\n",
              "      <th>6</th>\n",
              "      <td>412 - ARMAZEM 12A</td>\n",
              "      <td>GRANELEIRO</td>\n",
              "      <td>229</td>\n",
              "      <td>38.0</td>\n",
              "      <td>3450.0</td>\n",
              "      <td>17.639540</td>\n",
              "    </tr>\n",
              "    <tr>\n",
              "      <th>7</th>\n",
              "      <td>419 - ARMAZEM 19</td>\n",
              "      <td>GRANELEIRO</td>\n",
              "      <td>190</td>\n",
              "      <td>32.3</td>\n",
              "      <td>11750.0</td>\n",
              "      <td>81.268012</td>\n",
              "    </tr>\n",
              "    <tr>\n",
              "      <th>8</th>\n",
              "      <td>803 - TGG</td>\n",
              "      <td>GRANELEIRO</td>\n",
              "      <td>225</td>\n",
              "      <td>32.2</td>\n",
              "      <td>125.0</td>\n",
              "      <td>1.404494</td>\n",
              "    </tr>\n",
              "  </tbody>\n",
              "</table>\n",
              "</div>"
            ],
            "text/plain": [
              "     LOCAL_ATRACACAO_X NAVIO_CLASSE  ...  TOTAL_T  taxa_tonh\n",
              "4     748 - ARMAZEM 38   GRANELEIRO  ...   3879.0  14.178495\n",
              "5  627 - OUTEIRINHOS 2   GRANELEIRO  ...   5576.0  27.155844\n",
              "6    412 - ARMAZEM 12A   GRANELEIRO  ...   3450.0  17.639540\n",
              "7     419 - ARMAZEM 19   GRANELEIRO  ...  11750.0  81.268012\n",
              "8            803 - TGG   GRANELEIRO  ...    125.0   1.404494\n",
              "\n",
              "[5 rows x 6 columns]"
            ]
          },
          "metadata": {
            "tags": []
          },
          "execution_count": 34
        }
      ]
    },
    {
      "cell_type": "code",
      "metadata": {
        "id": "ea3ydjnQoBFZ",
        "colab": {
          "base_uri": "https://localhost:8080/"
        },
        "outputId": "dcf5c0b9-11bc-4ef7-ba59-daa8a52d1e3d"
      },
      "source": [
        "print(x.LOCAL_ATRACACAO_X.value_counts())"
      ],
      "execution_count": 35,
      "outputs": [
        {
          "output_type": "stream",
          "text": [
            "416 - ARMAZEM 16/17      752\n",
            "420 - ARMAZEM 20/21      679\n",
            "803 - TGG                651\n",
            "748 - ARMAZEM 38         646\n",
            "419 - ARMAZEM 19         609\n",
            "759 - ARMAZEM 39         432\n",
            "901 - ULTRAFERTIL I      405\n",
            "942 - TEG                397\n",
            "804 - TERMAG             383\n",
            "412 - ARMAZEM 12A        342\n",
            "904 - ULTRAFERTIL III    338\n",
            "941 - TEAG               314\n",
            "903 - ULTRAFERTIL II     308\n",
            "423 - ARMAZEM 23         269\n",
            "413 - ARMAZEM13/14       234\n",
            "626 - OUTEIRINHOS 3      202\n",
            "931 - CUTRALE            149\n",
            "630 - ARMAZEM 29/30      131\n",
            "905 - ULTRAFERTIL IV     130\n",
            "525 - ARMAZEM 25          84\n",
            "212 - SABOO II            76\n",
            "653 - ARMAZEM 33          76\n",
            "422 - ARMAZEM 22          68\n",
            "213 - SABOO III           66\n",
            "415 - ARMAZEM 15          58\n",
            "914 - USIMINAS IV         56\n",
            "627 - OUTEIRINHOS 2       39\n",
            "652 - ARMAZEM 32          22\n",
            "112 - I. BARNABE BC       21\n",
            "103 - ALAMOA III          18\n",
            "111 - I. BARNABE SP       17\n",
            "104 - ALAMOA IV           15\n",
            "641 - ARMAZEM 31          12\n",
            "524 - FRIGORIFICO          9\n",
            "665 - ARMAZEM 35           6\n",
            "640 - ARMAZEM 30           3\n",
            "915 - USIMINAS V           2\n",
            "910 - AGEO I               2\n",
            "629 - ARMAZEM 29           1\n",
            "102 - ALAMOA II            1\n",
            "310 - VALONGO              1\n",
            "211 - SABOO I              1\n",
            "Name: LOCAL_ATRACACAO_X, dtype: int64\n"
          ],
          "name": "stdout"
        }
      ]
    },
    {
      "cell_type": "code",
      "metadata": {
        "id": "qDiPfoXSsAp2"
      },
      "source": [
        ""
      ],
      "execution_count": 35,
      "outputs": []
    },
    {
      "cell_type": "code",
      "metadata": {
        "id": "M_lhOeQ2wh-2",
        "colab": {
          "base_uri": "https://localhost:8080/",
          "height": 268
        },
        "outputId": "c8dbf087-edba-4d94-b5e5-c6fbb813b997"
      },
      "source": [
        "plt.hist(x.NAVIO_CLASSE,50)\n",
        "plt.show()"
      ],
      "execution_count": 36,
      "outputs": [
        {
          "output_type": "display_data",
          "data": {
            "image/png": "[encoded data removed]",
            "text/plain": [
              "<Figure size 432x288 with 1 Axes>"
            ]
          },
          "metadata": {
            "tags": [],
            "needs_background": "light"
          }
        }
      ]
    },
    {
      "cell_type": "code",
      "metadata": {
        "id": "2SPybP1XxPtV",
        "colab": {
          "base_uri": "https://localhost:8080/",
          "height": 419
        },
        "outputId": "a11dbc8d-60cd-452d-974a-6c689e35e126"
      },
      "source": [
        "#para fins de balanceamento e da maoir parte dos dados serem graneleiro, foi filtrado apenas navios desse tipo\n",
        "x= x[(x['NAVIO_CLASSE'] == 'GRANELEIRO') ]\n",
        "x= x.drop(columns=['NAVIO_CLASSE'])\n",
        "x"
      ],
      "execution_count": 37,
      "outputs": [
        {
          "output_type": "execute_result",
          "data": {
            "text/html": [
              "<div>\n",
              "<style scoped>\n",
              "    .dataframe tbody tr th:only-of-type {\n",
              "        vertical-align: middle;\n",
              "    }\n",
              "\n",
              "    .dataframe tbody tr th {\n",
              "        vertical-align: top;\n",
              "    }\n",
              "\n",
              "    .dataframe thead th {\n",
              "        text-align: right;\n",
              "    }\n",
              "</style>\n",
              "<table border=\"1\" class=\"dataframe\">\n",
              "  <thead>\n",
              "    <tr style=\"text-align: right;\">\n",
              "      <th></th>\n",
              "      <th>LOCAL_ATRACACAO_X</th>\n",
              "      <th>NAVIO_COMPRIMENTO</th>\n",
              "      <th>NAVIO_LARGURA</th>\n",
              "      <th>TOTAL_T</th>\n",
              "      <th>taxa_tonh</th>\n",
              "    </tr>\n",
              "  </thead>\n",
              "  <tbody>\n",
              "    <tr>\n",
              "      <th>4</th>\n",
              "      <td>748 - ARMAZEM 38</td>\n",
              "      <td>229</td>\n",
              "      <td>32.3</td>\n",
              "      <td>3879.0</td>\n",
              "      <td>14.178495</td>\n",
              "    </tr>\n",
              "    <tr>\n",
              "      <th>5</th>\n",
              "      <td>627 - OUTEIRINHOS 2</td>\n",
              "      <td>200</td>\n",
              "      <td>32.3</td>\n",
              "      <td>5576.0</td>\n",
              "      <td>27.155844</td>\n",
              "    </tr>\n",
              "    <tr>\n",
              "      <th>6</th>\n",
              "      <td>412 - ARMAZEM 12A</td>\n",
              "      <td>229</td>\n",
              "      <td>38.0</td>\n",
              "      <td>3450.0</td>\n",
              "      <td>17.639540</td>\n",
              "    </tr>\n",
              "    <tr>\n",
              "      <th>7</th>\n",
              "      <td>419 - ARMAZEM 19</td>\n",
              "      <td>190</td>\n",
              "      <td>32.3</td>\n",
              "      <td>11750.0</td>\n",
              "      <td>81.268012</td>\n",
              "    </tr>\n",
              "    <tr>\n",
              "      <th>8</th>\n",
              "      <td>803 - TGG</td>\n",
              "      <td>225</td>\n",
              "      <td>32.2</td>\n",
              "      <td>125.0</td>\n",
              "      <td>1.404494</td>\n",
              "    </tr>\n",
              "    <tr>\n",
              "      <th>...</th>\n",
              "      <td>...</td>\n",
              "      <td>...</td>\n",
              "      <td>...</td>\n",
              "      <td>...</td>\n",
              "      <td>...</td>\n",
              "    </tr>\n",
              "    <tr>\n",
              "      <th>41017</th>\n",
              "      <td>901 - ULTRAFERTIL I</td>\n",
              "      <td>200</td>\n",
              "      <td>32.3</td>\n",
              "      <td>4297.0</td>\n",
              "      <td>47.700278</td>\n",
              "    </tr>\n",
              "    <tr>\n",
              "      <th>41018</th>\n",
              "      <td>412 - ARMAZEM 12A</td>\n",
              "      <td>196</td>\n",
              "      <td>32.2</td>\n",
              "      <td>16029.0</td>\n",
              "      <td>116.082076</td>\n",
              "    </tr>\n",
              "    <tr>\n",
              "      <th>41019</th>\n",
              "      <td>905 - ULTRAFERTIL IV</td>\n",
              "      <td>200</td>\n",
              "      <td>32.3</td>\n",
              "      <td>4524.0</td>\n",
              "      <td>408.180451</td>\n",
              "    </tr>\n",
              "    <tr>\n",
              "      <th>41020</th>\n",
              "      <td>213 - SABOO III</td>\n",
              "      <td>180</td>\n",
              "      <td>30.0</td>\n",
              "      <td>1663.0</td>\n",
              "      <td>8.703009</td>\n",
              "    </tr>\n",
              "    <tr>\n",
              "      <th>41026</th>\n",
              "      <td>905 - ULTRAFERTIL IV</td>\n",
              "      <td>229</td>\n",
              "      <td>32.3</td>\n",
              "      <td>921.0</td>\n",
              "      <td>3.142451</td>\n",
              "    </tr>\n",
              "  </tbody>\n",
              "</table>\n",
              "<p>7668 rows × 5 columns</p>\n",
              "</div>"
            ],
            "text/plain": [
              "          LOCAL_ATRACACAO_X  NAVIO_COMPRIMENTO  ...  TOTAL_T   taxa_tonh\n",
              "4          748 - ARMAZEM 38                229  ...   3879.0   14.178495\n",
              "5       627 - OUTEIRINHOS 2                200  ...   5576.0   27.155844\n",
              "6         412 - ARMAZEM 12A                229  ...   3450.0   17.639540\n",
              "7          419 - ARMAZEM 19                190  ...  11750.0   81.268012\n",
              "8                 803 - TGG                225  ...    125.0    1.404494\n",
              "...                     ...                ...  ...      ...         ...\n",
              "41017   901 - ULTRAFERTIL I                200  ...   4297.0   47.700278\n",
              "41018     412 - ARMAZEM 12A                196  ...  16029.0  116.082076\n",
              "41019  905 - ULTRAFERTIL IV                200  ...   4524.0  408.180451\n",
              "41020       213 - SABOO III                180  ...   1663.0    8.703009\n",
              "41026  905 - ULTRAFERTIL IV                229  ...    921.0    3.142451\n",
              "\n",
              "[7668 rows x 5 columns]"
            ]
          },
          "metadata": {
            "tags": []
          },
          "execution_count": 37
        }
      ]
    },
    {
      "cell_type": "code",
      "metadata": {
        "id": "Hp9WqfFD1tWr"
      },
      "source": [
        "#onehotencoding\n",
        "xonehot= pd.get_dummies(x, prefix=['LOCAL_ATRACACAO_X'])"
      ],
      "execution_count": 38,
      "outputs": []
    },
    {
      "cell_type": "code",
      "metadata": {
        "id": "7ApV2TBaA4aE",
        "colab": {
          "base_uri": "https://localhost:8080/",
          "height": 241
        },
        "outputId": "80d5737f-bb0d-41c5-8bd0-08474a903633"
      },
      "source": [
        "xonehot.head()\n"
      ],
      "execution_count": 39,
      "outputs": [
        {
          "output_type": "execute_result",
          "data": {
            "text/html": [
              "<div>\n",
              "<style scoped>\n",
              "    .dataframe tbody tr th:only-of-type {\n",
              "        vertical-align: middle;\n",
              "    }\n",
              "\n",
              "    .dataframe tbody tr th {\n",
              "        vertical-align: top;\n",
              "    }\n",
              "\n",
              "    .dataframe thead th {\n",
              "        text-align: right;\n",
              "    }\n",
              "</style>\n",
              "<table border=\"1\" class=\"dataframe\">\n",
              "  <thead>\n",
              "    <tr style=\"text-align: right;\">\n",
              "      <th></th>\n",
              "      <th>NAVIO_COMPRIMENTO</th>\n",
              "      <th>NAVIO_LARGURA</th>\n",
              "      <th>TOTAL_T</th>\n",
              "      <th>taxa_tonh</th>\n",
              "      <th>LOCAL_ATRACACAO_X_211 - SABOO I</th>\n",
              "      <th>LOCAL_ATRACACAO_X_212 - SABOO II</th>\n",
              "      <th>LOCAL_ATRACACAO_X_213 - SABOO III</th>\n",
              "      <th>LOCAL_ATRACACAO_X_310 - VALONGO</th>\n",
              "      <th>LOCAL_ATRACACAO_X_412 - ARMAZEM 12A</th>\n",
              "      <th>LOCAL_ATRACACAO_X_413 - ARMAZEM13/14</th>\n",
              "      <th>LOCAL_ATRACACAO_X_415 - ARMAZEM 15</th>\n",
              "      <th>LOCAL_ATRACACAO_X_416 - ARMAZEM 16/17</th>\n",
              "      <th>LOCAL_ATRACACAO_X_419 - ARMAZEM 19</th>\n",
              "      <th>LOCAL_ATRACACAO_X_420 - ARMAZEM 20/21</th>\n",
              "      <th>LOCAL_ATRACACAO_X_422 - ARMAZEM 22</th>\n",
              "      <th>LOCAL_ATRACACAO_X_423 - ARMAZEM 23</th>\n",
              "      <th>LOCAL_ATRACACAO_X_525 - ARMAZEM 25</th>\n",
              "      <th>LOCAL_ATRACACAO_X_626 - OUTEIRINHOS 3</th>\n",
              "      <th>LOCAL_ATRACACAO_X_627 - OUTEIRINHOS 2</th>\n",
              "      <th>LOCAL_ATRACACAO_X_630 - ARMAZEM 29/30</th>\n",
              "      <th>LOCAL_ATRACACAO_X_640 - ARMAZEM 30</th>\n",
              "      <th>LOCAL_ATRACACAO_X_641 - ARMAZEM 31</th>\n",
              "      <th>LOCAL_ATRACACAO_X_652 - ARMAZEM 32</th>\n",
              "      <th>LOCAL_ATRACACAO_X_653 - ARMAZEM 33</th>\n",
              "      <th>LOCAL_ATRACACAO_X_665 - ARMAZEM 35</th>\n",
              "      <th>LOCAL_ATRACACAO_X_748 - ARMAZEM 38</th>\n",
              "      <th>LOCAL_ATRACACAO_X_759 - ARMAZEM 39</th>\n",
              "      <th>LOCAL_ATRACACAO_X_803 - TGG</th>\n",
              "      <th>LOCAL_ATRACACAO_X_804 - TERMAG</th>\n",
              "      <th>LOCAL_ATRACACAO_X_901 - ULTRAFERTIL I</th>\n",
              "      <th>LOCAL_ATRACACAO_X_903 - ULTRAFERTIL II</th>\n",
              "      <th>LOCAL_ATRACACAO_X_904 - ULTRAFERTIL III</th>\n",
              "      <th>LOCAL_ATRACACAO_X_905 - ULTRAFERTIL IV</th>\n",
              "      <th>LOCAL_ATRACACAO_X_914 - USIMINAS IV</th>\n",
              "      <th>LOCAL_ATRACACAO_X_915 - USIMINAS V</th>\n",
              "      <th>LOCAL_ATRACACAO_X_931 - CUTRALE</th>\n",
              "      <th>LOCAL_ATRACACAO_X_941 - TEAG</th>\n",
              "      <th>LOCAL_ATRACACAO_X_942 - TEG</th>\n",
              "    </tr>\n",
              "  </thead>\n",
              "  <tbody>\n",
              "    <tr>\n",
              "      <th>4</th>\n",
              "      <td>229</td>\n",
              "      <td>32.3</td>\n",
              "      <td>3879.0</td>\n",
              "      <td>14.178495</td>\n",
              "      <td>0</td>\n",
              "      <td>0</td>\n",
              "      <td>0</td>\n",
              "      <td>0</td>\n",
              "      <td>0</td>\n",
              "      <td>0</td>\n",
              "      <td>0</td>\n",
              "      <td>0</td>\n",
              "      <td>0</td>\n",
              "      <td>0</td>\n",
              "      <td>0</td>\n",
              "      <td>0</td>\n",
              "      <td>0</td>\n",
              "      <td>0</td>\n",
              "      <td>0</td>\n",
              "      <td>0</td>\n",
              "      <td>0</td>\n",
              "      <td>0</td>\n",
              "      <td>0</td>\n",
              "      <td>0</td>\n",
              "      <td>0</td>\n",
              "      <td>1</td>\n",
              "      <td>0</td>\n",
              "      <td>0</td>\n",
              "      <td>0</td>\n",
              "      <td>0</td>\n",
              "      <td>0</td>\n",
              "      <td>0</td>\n",
              "      <td>0</td>\n",
              "      <td>0</td>\n",
              "      <td>0</td>\n",
              "      <td>0</td>\n",
              "      <td>0</td>\n",
              "      <td>0</td>\n",
              "    </tr>\n",
              "    <tr>\n",
              "      <th>5</th>\n",
              "      <td>200</td>\n",
              "      <td>32.3</td>\n",
              "      <td>5576.0</td>\n",
              "      <td>27.155844</td>\n",
              "      <td>0</td>\n",
              "      <td>0</td>\n",
              "      <td>0</td>\n",
              "      <td>0</td>\n",
              "      <td>0</td>\n",
              "      <td>0</td>\n",
              "      <td>0</td>\n",
              "      <td>0</td>\n",
              "      <td>0</td>\n",
              "      <td>0</td>\n",
              "      <td>0</td>\n",
              "      <td>0</td>\n",
              "      <td>0</td>\n",
              "      <td>0</td>\n",
              "      <td>1</td>\n",
              "      <td>0</td>\n",
              "      <td>0</td>\n",
              "      <td>0</td>\n",
              "      <td>0</td>\n",
              "      <td>0</td>\n",
              "      <td>0</td>\n",
              "      <td>0</td>\n",
              "      <td>0</td>\n",
              "      <td>0</td>\n",
              "      <td>0</td>\n",
              "      <td>0</td>\n",
              "      <td>0</td>\n",
              "      <td>0</td>\n",
              "      <td>0</td>\n",
              "      <td>0</td>\n",
              "      <td>0</td>\n",
              "      <td>0</td>\n",
              "      <td>0</td>\n",
              "      <td>0</td>\n",
              "    </tr>\n",
              "    <tr>\n",
              "      <th>6</th>\n",
              "      <td>229</td>\n",
              "      <td>38.0</td>\n",
              "      <td>3450.0</td>\n",
              "      <td>17.639540</td>\n",
              "      <td>0</td>\n",
              "      <td>0</td>\n",
              "      <td>0</td>\n",
              "      <td>0</td>\n",
              "      <td>1</td>\n",
              "      <td>0</td>\n",
              "      <td>0</td>\n",
              "      <td>0</td>\n",
              "      <td>0</td>\n",
              "      <td>0</td>\n",
              "      <td>0</td>\n",
              "      <td>0</td>\n",
              "      <td>0</td>\n",
              "      <td>0</td>\n",
              "      <td>0</td>\n",
              "      <td>0</td>\n",
              "      <td>0</td>\n",
              "      <td>0</td>\n",
              "      <td>0</td>\n",
              "      <td>0</td>\n",
              "      <td>0</td>\n",
              "      <td>0</td>\n",
              "      <td>0</td>\n",
              "      <td>0</td>\n",
              "      <td>0</td>\n",
              "      <td>0</td>\n",
              "      <td>0</td>\n",
              "      <td>0</td>\n",
              "      <td>0</td>\n",
              "      <td>0</td>\n",
              "      <td>0</td>\n",
              "      <td>0</td>\n",
              "      <td>0</td>\n",
              "      <td>0</td>\n",
              "    </tr>\n",
              "    <tr>\n",
              "      <th>7</th>\n",
              "      <td>190</td>\n",
              "      <td>32.3</td>\n",
              "      <td>11750.0</td>\n",
              "      <td>81.268012</td>\n",
              "      <td>0</td>\n",
              "      <td>0</td>\n",
              "      <td>0</td>\n",
              "      <td>0</td>\n",
              "      <td>0</td>\n",
              "      <td>0</td>\n",
              "      <td>0</td>\n",
              "      <td>0</td>\n",
              "      <td>1</td>\n",
              "      <td>0</td>\n",
              "      <td>0</td>\n",
              "      <td>0</td>\n",
              "      <td>0</td>\n",
              "      <td>0</td>\n",
              "      <td>0</td>\n",
              "      <td>0</td>\n",
              "      <td>0</td>\n",
              "      <td>0</td>\n",
              "      <td>0</td>\n",
              "      <td>0</td>\n",
              "      <td>0</td>\n",
              "      <td>0</td>\n",
              "      <td>0</td>\n",
              "      <td>0</td>\n",
              "      <td>0</td>\n",
              "      <td>0</td>\n",
              "      <td>0</td>\n",
              "      <td>0</td>\n",
              "      <td>0</td>\n",
              "      <td>0</td>\n",
              "      <td>0</td>\n",
              "      <td>0</td>\n",
              "      <td>0</td>\n",
              "      <td>0</td>\n",
              "    </tr>\n",
              "    <tr>\n",
              "      <th>8</th>\n",
              "      <td>225</td>\n",
              "      <td>32.2</td>\n",
              "      <td>125.0</td>\n",
              "      <td>1.404494</td>\n",
              "      <td>0</td>\n",
              "      <td>0</td>\n",
              "      <td>0</td>\n",
              "      <td>0</td>\n",
              "      <td>0</td>\n",
              "      <td>0</td>\n",
              "      <td>0</td>\n",
              "      <td>0</td>\n",
              "      <td>0</td>\n",
              "      <td>0</td>\n",
              "      <td>0</td>\n",
              "      <td>0</td>\n",
              "      <td>0</td>\n",
              "      <td>0</td>\n",
              "      <td>0</td>\n",
              "      <td>0</td>\n",
              "      <td>0</td>\n",
              "      <td>0</td>\n",
              "      <td>0</td>\n",
              "      <td>0</td>\n",
              "      <td>0</td>\n",
              "      <td>0</td>\n",
              "      <td>0</td>\n",
              "      <td>1</td>\n",
              "      <td>0</td>\n",
              "      <td>0</td>\n",
              "      <td>0</td>\n",
              "      <td>0</td>\n",
              "      <td>0</td>\n",
              "      <td>0</td>\n",
              "      <td>0</td>\n",
              "      <td>0</td>\n",
              "      <td>0</td>\n",
              "      <td>0</td>\n",
              "    </tr>\n",
              "  </tbody>\n",
              "</table>\n",
              "</div>"
            ],
            "text/plain": [
              "   NAVIO_COMPRIMENTO  ...  LOCAL_ATRACACAO_X_942 - TEG\n",
              "4                229  ...                            0\n",
              "5                200  ...                            0\n",
              "6                229  ...                            0\n",
              "7                190  ...                            0\n",
              "8                225  ...                            0\n",
              "\n",
              "[5 rows x 38 columns]"
            ]
          },
          "metadata": {
            "tags": []
          },
          "execution_count": 39
        }
      ]
    },
    {
      "cell_type": "code",
      "metadata": {
        "id": "hJafpK5R1Zw1"
      },
      "source": [
        "#normalizar dados\n",
        "#https://machinelearningmastery.com/standardscaler-and-minmaxscaler-transforms-in-python/\n",
        "\n",
        "from sklearn.preprocessing import MinMaxScaler, StandardScaler\n",
        "columns = ['NAVIO_COMPRIMENTO','NAVIO_LARGURA', 'TOTAL_T','taxa_tonh']\n",
        "scaler = MinMaxScaler(feature_range=(0, 1))\n",
        "xonehot[columns]= scaler.fit_transform(xonehot[columns])\n"
      ],
      "execution_count": 40,
      "outputs": []
    },
    {
      "cell_type": "code",
      "metadata": {
        "id": "Y-i00DuCLJyQ",
        "colab": {
          "base_uri": "https://localhost:8080/",
          "height": 456
        },
        "outputId": "f0992264-40e1-4df1-c503-f64f139252c2"
      },
      "source": [
        " xonehot"
      ],
      "execution_count": 41,
      "outputs": [
        {
          "output_type": "execute_result",
          "data": {
            "text/html": [
              "<div>\n",
              "<style scoped>\n",
              "    .dataframe tbody tr th:only-of-type {\n",
              "        vertical-align: middle;\n",
              "    }\n",
              "\n",
              "    .dataframe tbody tr th {\n",
              "        vertical-align: top;\n",
              "    }\n",
              "\n",
              "    .dataframe thead th {\n",
              "        text-align: right;\n",
              "    }\n",
              "</style>\n",
              "<table border=\"1\" class=\"dataframe\">\n",
              "  <thead>\n",
              "    <tr style=\"text-align: right;\">\n",
              "      <th></th>\n",
              "      <th>NAVIO_COMPRIMENTO</th>\n",
              "      <th>NAVIO_LARGURA</th>\n",
              "      <th>TOTAL_T</th>\n",
              "      <th>taxa_tonh</th>\n",
              "      <th>LOCAL_ATRACACAO_X_211 - SABOO I</th>\n",
              "      <th>LOCAL_ATRACACAO_X_212 - SABOO II</th>\n",
              "      <th>LOCAL_ATRACACAO_X_213 - SABOO III</th>\n",
              "      <th>LOCAL_ATRACACAO_X_310 - VALONGO</th>\n",
              "      <th>LOCAL_ATRACACAO_X_412 - ARMAZEM 12A</th>\n",
              "      <th>LOCAL_ATRACACAO_X_413 - ARMAZEM13/14</th>\n",
              "      <th>LOCAL_ATRACACAO_X_415 - ARMAZEM 15</th>\n",
              "      <th>LOCAL_ATRACACAO_X_416 - ARMAZEM 16/17</th>\n",
              "      <th>LOCAL_ATRACACAO_X_419 - ARMAZEM 19</th>\n",
              "      <th>LOCAL_ATRACACAO_X_420 - ARMAZEM 20/21</th>\n",
              "      <th>LOCAL_ATRACACAO_X_422 - ARMAZEM 22</th>\n",
              "      <th>LOCAL_ATRACACAO_X_423 - ARMAZEM 23</th>\n",
              "      <th>LOCAL_ATRACACAO_X_525 - ARMAZEM 25</th>\n",
              "      <th>LOCAL_ATRACACAO_X_626 - OUTEIRINHOS 3</th>\n",
              "      <th>LOCAL_ATRACACAO_X_627 - OUTEIRINHOS 2</th>\n",
              "      <th>LOCAL_ATRACACAO_X_630 - ARMAZEM 29/30</th>\n",
              "      <th>LOCAL_ATRACACAO_X_640 - ARMAZEM 30</th>\n",
              "      <th>LOCAL_ATRACACAO_X_641 - ARMAZEM 31</th>\n",
              "      <th>LOCAL_ATRACACAO_X_652 - ARMAZEM 32</th>\n",
              "      <th>LOCAL_ATRACACAO_X_653 - ARMAZEM 33</th>\n",
              "      <th>LOCAL_ATRACACAO_X_665 - ARMAZEM 35</th>\n",
              "      <th>LOCAL_ATRACACAO_X_748 - ARMAZEM 38</th>\n",
              "      <th>LOCAL_ATRACACAO_X_759 - ARMAZEM 39</th>\n",
              "      <th>LOCAL_ATRACACAO_X_803 - TGG</th>\n",
              "      <th>LOCAL_ATRACACAO_X_804 - TERMAG</th>\n",
              "      <th>LOCAL_ATRACACAO_X_901 - ULTRAFERTIL I</th>\n",
              "      <th>LOCAL_ATRACACAO_X_903 - ULTRAFERTIL II</th>\n",
              "      <th>LOCAL_ATRACACAO_X_904 - ULTRAFERTIL III</th>\n",
              "      <th>LOCAL_ATRACACAO_X_905 - ULTRAFERTIL IV</th>\n",
              "      <th>LOCAL_ATRACACAO_X_914 - USIMINAS IV</th>\n",
              "      <th>LOCAL_ATRACACAO_X_915 - USIMINAS V</th>\n",
              "      <th>LOCAL_ATRACACAO_X_931 - CUTRALE</th>\n",
              "      <th>LOCAL_ATRACACAO_X_941 - TEAG</th>\n",
              "      <th>LOCAL_ATRACACAO_X_942 - TEG</th>\n",
              "    </tr>\n",
              "  </thead>\n",
              "  <tbody>\n",
              "    <tr>\n",
              "      <th>4</th>\n",
              "      <td>0.717742</td>\n",
              "      <td>0.751163</td>\n",
              "      <td>0.037701</td>\n",
              "      <td>0.004865</td>\n",
              "      <td>0</td>\n",
              "      <td>0</td>\n",
              "      <td>0</td>\n",
              "      <td>0</td>\n",
              "      <td>0</td>\n",
              "      <td>0</td>\n",
              "      <td>0</td>\n",
              "      <td>0</td>\n",
              "      <td>0</td>\n",
              "      <td>0</td>\n",
              "      <td>0</td>\n",
              "      <td>0</td>\n",
              "      <td>0</td>\n",
              "      <td>0</td>\n",
              "      <td>0</td>\n",
              "      <td>0</td>\n",
              "      <td>0</td>\n",
              "      <td>0</td>\n",
              "      <td>0</td>\n",
              "      <td>0</td>\n",
              "      <td>0</td>\n",
              "      <td>1</td>\n",
              "      <td>0</td>\n",
              "      <td>0</td>\n",
              "      <td>0</td>\n",
              "      <td>0</td>\n",
              "      <td>0</td>\n",
              "      <td>0</td>\n",
              "      <td>0</td>\n",
              "      <td>0</td>\n",
              "      <td>0</td>\n",
              "      <td>0</td>\n",
              "      <td>0</td>\n",
              "      <td>0</td>\n",
              "    </tr>\n",
              "    <tr>\n",
              "      <th>5</th>\n",
              "      <td>0.483871</td>\n",
              "      <td>0.751163</td>\n",
              "      <td>0.054306</td>\n",
              "      <td>0.009756</td>\n",
              "      <td>0</td>\n",
              "      <td>0</td>\n",
              "      <td>0</td>\n",
              "      <td>0</td>\n",
              "      <td>0</td>\n",
              "      <td>0</td>\n",
              "      <td>0</td>\n",
              "      <td>0</td>\n",
              "      <td>0</td>\n",
              "      <td>0</td>\n",
              "      <td>0</td>\n",
              "      <td>0</td>\n",
              "      <td>0</td>\n",
              "      <td>0</td>\n",
              "      <td>1</td>\n",
              "      <td>0</td>\n",
              "      <td>0</td>\n",
              "      <td>0</td>\n",
              "      <td>0</td>\n",
              "      <td>0</td>\n",
              "      <td>0</td>\n",
              "      <td>0</td>\n",
              "      <td>0</td>\n",
              "      <td>0</td>\n",
              "      <td>0</td>\n",
              "      <td>0</td>\n",
              "      <td>0</td>\n",
              "      <td>0</td>\n",
              "      <td>0</td>\n",
              "      <td>0</td>\n",
              "      <td>0</td>\n",
              "      <td>0</td>\n",
              "      <td>0</td>\n",
              "      <td>0</td>\n",
              "    </tr>\n",
              "    <tr>\n",
              "      <th>6</th>\n",
              "      <td>0.717742</td>\n",
              "      <td>0.883721</td>\n",
              "      <td>0.033503</td>\n",
              "      <td>0.006170</td>\n",
              "      <td>0</td>\n",
              "      <td>0</td>\n",
              "      <td>0</td>\n",
              "      <td>0</td>\n",
              "      <td>1</td>\n",
              "      <td>0</td>\n",
              "      <td>0</td>\n",
              "      <td>0</td>\n",
              "      <td>0</td>\n",
              "      <td>0</td>\n",
              "      <td>0</td>\n",
              "      <td>0</td>\n",
              "      <td>0</td>\n",
              "      <td>0</td>\n",
              "      <td>0</td>\n",
              "      <td>0</td>\n",
              "      <td>0</td>\n",
              "      <td>0</td>\n",
              "      <td>0</td>\n",
              "      <td>0</td>\n",
              "      <td>0</td>\n",
              "      <td>0</td>\n",
              "      <td>0</td>\n",
              "      <td>0</td>\n",
              "      <td>0</td>\n",
              "      <td>0</td>\n",
              "      <td>0</td>\n",
              "      <td>0</td>\n",
              "      <td>0</td>\n",
              "      <td>0</td>\n",
              "      <td>0</td>\n",
              "      <td>0</td>\n",
              "      <td>0</td>\n",
              "      <td>0</td>\n",
              "    </tr>\n",
              "    <tr>\n",
              "      <th>7</th>\n",
              "      <td>0.403226</td>\n",
              "      <td>0.751163</td>\n",
              "      <td>0.114717</td>\n",
              "      <td>0.030149</td>\n",
              "      <td>0</td>\n",
              "      <td>0</td>\n",
              "      <td>0</td>\n",
              "      <td>0</td>\n",
              "      <td>0</td>\n",
              "      <td>0</td>\n",
              "      <td>0</td>\n",
              "      <td>0</td>\n",
              "      <td>1</td>\n",
              "      <td>0</td>\n",
              "      <td>0</td>\n",
              "      <td>0</td>\n",
              "      <td>0</td>\n",
              "      <td>0</td>\n",
              "      <td>0</td>\n",
              "      <td>0</td>\n",
              "      <td>0</td>\n",
              "      <td>0</td>\n",
              "      <td>0</td>\n",
              "      <td>0</td>\n",
              "      <td>0</td>\n",
              "      <td>0</td>\n",
              "      <td>0</td>\n",
              "      <td>0</td>\n",
              "      <td>0</td>\n",
              "      <td>0</td>\n",
              "      <td>0</td>\n",
              "      <td>0</td>\n",
              "      <td>0</td>\n",
              "      <td>0</td>\n",
              "      <td>0</td>\n",
              "      <td>0</td>\n",
              "      <td>0</td>\n",
              "      <td>0</td>\n",
              "    </tr>\n",
              "    <tr>\n",
              "      <th>8</th>\n",
              "      <td>0.685484</td>\n",
              "      <td>0.748837</td>\n",
              "      <td>0.000969</td>\n",
              "      <td>0.000051</td>\n",
              "      <td>0</td>\n",
              "      <td>0</td>\n",
              "      <td>0</td>\n",
              "      <td>0</td>\n",
              "      <td>0</td>\n",
              "      <td>0</td>\n",
              "      <td>0</td>\n",
              "      <td>0</td>\n",
              "      <td>0</td>\n",
              "      <td>0</td>\n",
              "      <td>0</td>\n",
              "      <td>0</td>\n",
              "      <td>0</td>\n",
              "      <td>0</td>\n",
              "      <td>0</td>\n",
              "      <td>0</td>\n",
              "      <td>0</td>\n",
              "      <td>0</td>\n",
              "      <td>0</td>\n",
              "      <td>0</td>\n",
              "      <td>0</td>\n",
              "      <td>0</td>\n",
              "      <td>0</td>\n",
              "      <td>1</td>\n",
              "      <td>0</td>\n",
              "      <td>0</td>\n",
              "      <td>0</td>\n",
              "      <td>0</td>\n",
              "      <td>0</td>\n",
              "      <td>0</td>\n",
              "      <td>0</td>\n",
              "      <td>0</td>\n",
              "      <td>0</td>\n",
              "      <td>0</td>\n",
              "    </tr>\n",
              "    <tr>\n",
              "      <th>...</th>\n",
              "      <td>...</td>\n",
              "      <td>...</td>\n",
              "      <td>...</td>\n",
              "      <td>...</td>\n",
              "      <td>...</td>\n",
              "      <td>...</td>\n",
              "      <td>...</td>\n",
              "      <td>...</td>\n",
              "      <td>...</td>\n",
              "      <td>...</td>\n",
              "      <td>...</td>\n",
              "      <td>...</td>\n",
              "      <td>...</td>\n",
              "      <td>...</td>\n",
              "      <td>...</td>\n",
              "      <td>...</td>\n",
              "      <td>...</td>\n",
              "      <td>...</td>\n",
              "      <td>...</td>\n",
              "      <td>...</td>\n",
              "      <td>...</td>\n",
              "      <td>...</td>\n",
              "      <td>...</td>\n",
              "      <td>...</td>\n",
              "      <td>...</td>\n",
              "      <td>...</td>\n",
              "      <td>...</td>\n",
              "      <td>...</td>\n",
              "      <td>...</td>\n",
              "      <td>...</td>\n",
              "      <td>...</td>\n",
              "      <td>...</td>\n",
              "      <td>...</td>\n",
              "      <td>...</td>\n",
              "      <td>...</td>\n",
              "      <td>...</td>\n",
              "      <td>...</td>\n",
              "      <td>...</td>\n",
              "    </tr>\n",
              "    <tr>\n",
              "      <th>41017</th>\n",
              "      <td>0.483871</td>\n",
              "      <td>0.751163</td>\n",
              "      <td>0.041791</td>\n",
              "      <td>0.017499</td>\n",
              "      <td>0</td>\n",
              "      <td>0</td>\n",
              "      <td>0</td>\n",
              "      <td>0</td>\n",
              "      <td>0</td>\n",
              "      <td>0</td>\n",
              "      <td>0</td>\n",
              "      <td>0</td>\n",
              "      <td>0</td>\n",
              "      <td>0</td>\n",
              "      <td>0</td>\n",
              "      <td>0</td>\n",
              "      <td>0</td>\n",
              "      <td>0</td>\n",
              "      <td>0</td>\n",
              "      <td>0</td>\n",
              "      <td>0</td>\n",
              "      <td>0</td>\n",
              "      <td>0</td>\n",
              "      <td>0</td>\n",
              "      <td>0</td>\n",
              "      <td>0</td>\n",
              "      <td>0</td>\n",
              "      <td>0</td>\n",
              "      <td>0</td>\n",
              "      <td>1</td>\n",
              "      <td>0</td>\n",
              "      <td>0</td>\n",
              "      <td>0</td>\n",
              "      <td>0</td>\n",
              "      <td>0</td>\n",
              "      <td>0</td>\n",
              "      <td>0</td>\n",
              "      <td>0</td>\n",
              "    </tr>\n",
              "    <tr>\n",
              "      <th>41018</th>\n",
              "      <td>0.451613</td>\n",
              "      <td>0.748837</td>\n",
              "      <td>0.156587</td>\n",
              "      <td>0.043270</td>\n",
              "      <td>0</td>\n",
              "      <td>0</td>\n",
              "      <td>0</td>\n",
              "      <td>0</td>\n",
              "      <td>1</td>\n",
              "      <td>0</td>\n",
              "      <td>0</td>\n",
              "      <td>0</td>\n",
              "      <td>0</td>\n",
              "      <td>0</td>\n",
              "      <td>0</td>\n",
              "      <td>0</td>\n",
              "      <td>0</td>\n",
              "      <td>0</td>\n",
              "      <td>0</td>\n",
              "      <td>0</td>\n",
              "      <td>0</td>\n",
              "      <td>0</td>\n",
              "      <td>0</td>\n",
              "      <td>0</td>\n",
              "      <td>0</td>\n",
              "      <td>0</td>\n",
              "      <td>0</td>\n",
              "      <td>0</td>\n",
              "      <td>0</td>\n",
              "      <td>0</td>\n",
              "      <td>0</td>\n",
              "      <td>0</td>\n",
              "      <td>0</td>\n",
              "      <td>0</td>\n",
              "      <td>0</td>\n",
              "      <td>0</td>\n",
              "      <td>0</td>\n",
              "      <td>0</td>\n",
              "    </tr>\n",
              "    <tr>\n",
              "      <th>41019</th>\n",
              "      <td>0.483871</td>\n",
              "      <td>0.751163</td>\n",
              "      <td>0.044012</td>\n",
              "      <td>0.153353</td>\n",
              "      <td>0</td>\n",
              "      <td>0</td>\n",
              "      <td>0</td>\n",
              "      <td>0</td>\n",
              "      <td>0</td>\n",
              "      <td>0</td>\n",
              "      <td>0</td>\n",
              "      <td>0</td>\n",
              "      <td>0</td>\n",
              "      <td>0</td>\n",
              "      <td>0</td>\n",
              "      <td>0</td>\n",
              "      <td>0</td>\n",
              "      <td>0</td>\n",
              "      <td>0</td>\n",
              "      <td>0</td>\n",
              "      <td>0</td>\n",
              "      <td>0</td>\n",
              "      <td>0</td>\n",
              "      <td>0</td>\n",
              "      <td>0</td>\n",
              "      <td>0</td>\n",
              "      <td>0</td>\n",
              "      <td>0</td>\n",
              "      <td>0</td>\n",
              "      <td>0</td>\n",
              "      <td>0</td>\n",
              "      <td>0</td>\n",
              "      <td>1</td>\n",
              "      <td>0</td>\n",
              "      <td>0</td>\n",
              "      <td>0</td>\n",
              "      <td>0</td>\n",
              "      <td>0</td>\n",
              "    </tr>\n",
              "    <tr>\n",
              "      <th>41020</th>\n",
              "      <td>0.322581</td>\n",
              "      <td>0.697674</td>\n",
              "      <td>0.016018</td>\n",
              "      <td>0.002802</td>\n",
              "      <td>0</td>\n",
              "      <td>0</td>\n",
              "      <td>1</td>\n",
              "      <td>0</td>\n",
              "      <td>0</td>\n",
              "      <td>0</td>\n",
              "      <td>0</td>\n",
              "      <td>0</td>\n",
              "      <td>0</td>\n",
              "      <td>0</td>\n",
              "      <td>0</td>\n",
              "      <td>0</td>\n",
              "      <td>0</td>\n",
              "      <td>0</td>\n",
              "      <td>0</td>\n",
              "      <td>0</td>\n",
              "      <td>0</td>\n",
              "      <td>0</td>\n",
              "      <td>0</td>\n",
              "      <td>0</td>\n",
              "      <td>0</td>\n",
              "      <td>0</td>\n",
              "      <td>0</td>\n",
              "      <td>0</td>\n",
              "      <td>0</td>\n",
              "      <td>0</td>\n",
              "      <td>0</td>\n",
              "      <td>0</td>\n",
              "      <td>0</td>\n",
              "      <td>0</td>\n",
              "      <td>0</td>\n",
              "      <td>0</td>\n",
              "      <td>0</td>\n",
              "      <td>0</td>\n",
              "    </tr>\n",
              "    <tr>\n",
              "      <th>41026</th>\n",
              "      <td>0.717742</td>\n",
              "      <td>0.751163</td>\n",
              "      <td>0.008757</td>\n",
              "      <td>0.000706</td>\n",
              "      <td>0</td>\n",
              "      <td>0</td>\n",
              "      <td>0</td>\n",
              "      <td>0</td>\n",
              "      <td>0</td>\n",
              "      <td>0</td>\n",
              "      <td>0</td>\n",
              "      <td>0</td>\n",
              "      <td>0</td>\n",
              "      <td>0</td>\n",
              "      <td>0</td>\n",
              "      <td>0</td>\n",
              "      <td>0</td>\n",
              "      <td>0</td>\n",
              "      <td>0</td>\n",
              "      <td>0</td>\n",
              "      <td>0</td>\n",
              "      <td>0</td>\n",
              "      <td>0</td>\n",
              "      <td>0</td>\n",
              "      <td>0</td>\n",
              "      <td>0</td>\n",
              "      <td>0</td>\n",
              "      <td>0</td>\n",
              "      <td>0</td>\n",
              "      <td>0</td>\n",
              "      <td>0</td>\n",
              "      <td>0</td>\n",
              "      <td>1</td>\n",
              "      <td>0</td>\n",
              "      <td>0</td>\n",
              "      <td>0</td>\n",
              "      <td>0</td>\n",
              "      <td>0</td>\n",
              "    </tr>\n",
              "  </tbody>\n",
              "</table>\n",
              "<p>7668 rows × 38 columns</p>\n",
              "</div>"
            ],
            "text/plain": [
              "       NAVIO_COMPRIMENTO  ...  LOCAL_ATRACACAO_X_942 - TEG\n",
              "4               0.717742  ...                            0\n",
              "5               0.483871  ...                            0\n",
              "6               0.717742  ...                            0\n",
              "7               0.403226  ...                            0\n",
              "8               0.685484  ...                            0\n",
              "...                  ...  ...                          ...\n",
              "41017           0.483871  ...                            0\n",
              "41018           0.451613  ...                            0\n",
              "41019           0.483871  ...                            0\n",
              "41020           0.322581  ...                            0\n",
              "41026           0.717742  ...                            0\n",
              "\n",
              "[7668 rows x 38 columns]"
            ]
          },
          "metadata": {
            "tags": []
          },
          "execution_count": 41
        }
      ]
    },
    {
      "cell_type": "code",
      "metadata": {
        "id": "oBUm2Sl7UIBg"
      },
      "source": [
        "xonehot.to_csv(r'/content/dfpreprocessamento.csv')"
      ],
      "execution_count": 42,
      "outputs": []
    },
    {
      "cell_type": "code",
      "metadata": {
        "id": "OwqqW1cOK31b"
      },
      "source": [
        "import matplotlib.pyplot as plt\n",
        "import numpy as np\n",
        "from sklearn import datasets, linear_model\n",
        "from sklearn.metrics import mean_squared_error, r2_score"
      ],
      "execution_count": 43,
      "outputs": []
    },
    {
      "cell_type": "code",
      "metadata": {
        "colab": {
          "base_uri": "https://localhost:8080/",
          "height": 456
        },
        "id": "-JnTIB61E1uJ",
        "outputId": "092d5f4b-4803-451c-fb94-76670bc4eeac"
      },
      "source": [
        "xlr=xonehot.drop(['taxa_tonh'], axis=1)\n",
        "y=xonehot['taxa_tonh']\n",
        "xlr\n"
      ],
      "execution_count": 44,
      "outputs": [
        {
          "output_type": "execute_result",
          "data": {
            "text/html": [
              "<div>\n",
              "<style scoped>\n",
              "    .dataframe tbody tr th:only-of-type {\n",
              "        vertical-align: middle;\n",
              "    }\n",
              "\n",
              "    .dataframe tbody tr th {\n",
              "        vertical-align: top;\n",
              "    }\n",
              "\n",
              "    .dataframe thead th {\n",
              "        text-align: right;\n",
              "    }\n",
              "</style>\n",
              "<table border=\"1\" class=\"dataframe\">\n",
              "  <thead>\n",
              "    <tr style=\"text-align: right;\">\n",
              "      <th></th>\n",
              "      <th>NAVIO_COMPRIMENTO</th>\n",
              "      <th>NAVIO_LARGURA</th>\n",
              "      <th>TOTAL_T</th>\n",
              "      <th>LOCAL_ATRACACAO_X_211 - SABOO I</th>\n",
              "      <th>LOCAL_ATRACACAO_X_212 - SABOO II</th>\n",
              "      <th>LOCAL_ATRACACAO_X_213 - SABOO III</th>\n",
              "      <th>LOCAL_ATRACACAO_X_310 - VALONGO</th>\n",
              "      <th>LOCAL_ATRACACAO_X_412 - ARMAZEM 12A</th>\n",
              "      <th>LOCAL_ATRACACAO_X_413 - ARMAZEM13/14</th>\n",
              "      <th>LOCAL_ATRACACAO_X_415 - ARMAZEM 15</th>\n",
              "      <th>LOCAL_ATRACACAO_X_416 - ARMAZEM 16/17</th>\n",
              "      <th>LOCAL_ATRACACAO_X_419 - ARMAZEM 19</th>\n",
              "      <th>LOCAL_ATRACACAO_X_420 - ARMAZEM 20/21</th>\n",
              "      <th>LOCAL_ATRACACAO_X_422 - ARMAZEM 22</th>\n",
              "      <th>LOCAL_ATRACACAO_X_423 - ARMAZEM 23</th>\n",
              "      <th>LOCAL_ATRACACAO_X_525 - ARMAZEM 25</th>\n",
              "      <th>LOCAL_ATRACACAO_X_626 - OUTEIRINHOS 3</th>\n",
              "      <th>LOCAL_ATRACACAO_X_627 - OUTEIRINHOS 2</th>\n",
              "      <th>LOCAL_ATRACACAO_X_630 - ARMAZEM 29/30</th>\n",
              "      <th>LOCAL_ATRACACAO_X_640 - ARMAZEM 30</th>\n",
              "      <th>LOCAL_ATRACACAO_X_641 - ARMAZEM 31</th>\n",
              "      <th>LOCAL_ATRACACAO_X_652 - ARMAZEM 32</th>\n",
              "      <th>LOCAL_ATRACACAO_X_653 - ARMAZEM 33</th>\n",
              "      <th>LOCAL_ATRACACAO_X_665 - ARMAZEM 35</th>\n",
              "      <th>LOCAL_ATRACACAO_X_748 - ARMAZEM 38</th>\n",
              "      <th>LOCAL_ATRACACAO_X_759 - ARMAZEM 39</th>\n",
              "      <th>LOCAL_ATRACACAO_X_803 - TGG</th>\n",
              "      <th>LOCAL_ATRACACAO_X_804 - TERMAG</th>\n",
              "      <th>LOCAL_ATRACACAO_X_901 - ULTRAFERTIL I</th>\n",
              "      <th>LOCAL_ATRACACAO_X_903 - ULTRAFERTIL II</th>\n",
              "      <th>LOCAL_ATRACACAO_X_904 - ULTRAFERTIL III</th>\n",
              "      <th>LOCAL_ATRACACAO_X_905 - ULTRAFERTIL IV</th>\n",
              "      <th>LOCAL_ATRACACAO_X_914 - USIMINAS IV</th>\n",
              "      <th>LOCAL_ATRACACAO_X_915 - USIMINAS V</th>\n",
              "      <th>LOCAL_ATRACACAO_X_931 - CUTRALE</th>\n",
              "      <th>LOCAL_ATRACACAO_X_941 - TEAG</th>\n",
              "      <th>LOCAL_ATRACACAO_X_942 - TEG</th>\n",
              "    </tr>\n",
              "  </thead>\n",
              "  <tbody>\n",
              "    <tr>\n",
              "      <th>4</th>\n",
              "      <td>0.717742</td>\n",
              "      <td>0.751163</td>\n",
              "      <td>0.037701</td>\n",
              "      <td>0</td>\n",
              "      <td>0</td>\n",
              "      <td>0</td>\n",
              "      <td>0</td>\n",
              "      <td>0</td>\n",
              "      <td>0</td>\n",
              "      <td>0</td>\n",
              "      <td>0</td>\n",
              "      <td>0</td>\n",
              "      <td>0</td>\n",
              "      <td>0</td>\n",
              "      <td>0</td>\n",
              "      <td>0</td>\n",
              "      <td>0</td>\n",
              "      <td>0</td>\n",
              "      <td>0</td>\n",
              "      <td>0</td>\n",
              "      <td>0</td>\n",
              "      <td>0</td>\n",
              "      <td>0</td>\n",
              "      <td>0</td>\n",
              "      <td>1</td>\n",
              "      <td>0</td>\n",
              "      <td>0</td>\n",
              "      <td>0</td>\n",
              "      <td>0</td>\n",
              "      <td>0</td>\n",
              "      <td>0</td>\n",
              "      <td>0</td>\n",
              "      <td>0</td>\n",
              "      <td>0</td>\n",
              "      <td>0</td>\n",
              "      <td>0</td>\n",
              "      <td>0</td>\n",
              "    </tr>\n",
              "    <tr>\n",
              "      <th>5</th>\n",
              "      <td>0.483871</td>\n",
              "      <td>0.751163</td>\n",
              "      <td>0.054306</td>\n",
              "      <td>0</td>\n",
              "      <td>0</td>\n",
              "      <td>0</td>\n",
              "      <td>0</td>\n",
              "      <td>0</td>\n",
              "      <td>0</td>\n",
              "      <td>0</td>\n",
              "      <td>0</td>\n",
              "      <td>0</td>\n",
              "      <td>0</td>\n",
              "      <td>0</td>\n",
              "      <td>0</td>\n",
              "      <td>0</td>\n",
              "      <td>0</td>\n",
              "      <td>1</td>\n",
              "      <td>0</td>\n",
              "      <td>0</td>\n",
              "      <td>0</td>\n",
              "      <td>0</td>\n",
              "      <td>0</td>\n",
              "      <td>0</td>\n",
              "      <td>0</td>\n",
              "      <td>0</td>\n",
              "      <td>0</td>\n",
              "      <td>0</td>\n",
              "      <td>0</td>\n",
              "      <td>0</td>\n",
              "      <td>0</td>\n",
              "      <td>0</td>\n",
              "      <td>0</td>\n",
              "      <td>0</td>\n",
              "      <td>0</td>\n",
              "      <td>0</td>\n",
              "      <td>0</td>\n",
              "    </tr>\n",
              "    <tr>\n",
              "      <th>6</th>\n",
              "      <td>0.717742</td>\n",
              "      <td>0.883721</td>\n",
              "      <td>0.033503</td>\n",
              "      <td>0</td>\n",
              "      <td>0</td>\n",
              "      <td>0</td>\n",
              "      <td>0</td>\n",
              "      <td>1</td>\n",
              "      <td>0</td>\n",
              "      <td>0</td>\n",
              "      <td>0</td>\n",
              "      <td>0</td>\n",
              "      <td>0</td>\n",
              "      <td>0</td>\n",
              "      <td>0</td>\n",
              "      <td>0</td>\n",
              "      <td>0</td>\n",
              "      <td>0</td>\n",
              "      <td>0</td>\n",
              "      <td>0</td>\n",
              "      <td>0</td>\n",
              "      <td>0</td>\n",
              "      <td>0</td>\n",
              "      <td>0</td>\n",
              "      <td>0</td>\n",
              "      <td>0</td>\n",
              "      <td>0</td>\n",
              "      <td>0</td>\n",
              "      <td>0</td>\n",
              "      <td>0</td>\n",
              "      <td>0</td>\n",
              "      <td>0</td>\n",
              "      <td>0</td>\n",
              "      <td>0</td>\n",
              "      <td>0</td>\n",
              "      <td>0</td>\n",
              "      <td>0</td>\n",
              "    </tr>\n",
              "    <tr>\n",
              "      <th>7</th>\n",
              "      <td>0.403226</td>\n",
              "      <td>0.751163</td>\n",
              "      <td>0.114717</td>\n",
              "      <td>0</td>\n",
              "      <td>0</td>\n",
              "      <td>0</td>\n",
              "      <td>0</td>\n",
              "      <td>0</td>\n",
              "      <td>0</td>\n",
              "      <td>0</td>\n",
              "      <td>0</td>\n",
              "      <td>1</td>\n",
              "      <td>0</td>\n",
              "      <td>0</td>\n",
              "      <td>0</td>\n",
              "      <td>0</td>\n",
              "      <td>0</td>\n",
              "      <td>0</td>\n",
              "      <td>0</td>\n",
              "      <td>0</td>\n",
              "      <td>0</td>\n",
              "      <td>0</td>\n",
              "      <td>0</td>\n",
              "      <td>0</td>\n",
              "      <td>0</td>\n",
              "      <td>0</td>\n",
              "      <td>0</td>\n",
              "      <td>0</td>\n",
              "      <td>0</td>\n",
              "      <td>0</td>\n",
              "      <td>0</td>\n",
              "      <td>0</td>\n",
              "      <td>0</td>\n",
              "      <td>0</td>\n",
              "      <td>0</td>\n",
              "      <td>0</td>\n",
              "      <td>0</td>\n",
              "    </tr>\n",
              "    <tr>\n",
              "      <th>8</th>\n",
              "      <td>0.685484</td>\n",
              "      <td>0.748837</td>\n",
              "      <td>0.000969</td>\n",
              "      <td>0</td>\n",
              "      <td>0</td>\n",
              "      <td>0</td>\n",
              "      <td>0</td>\n",
              "      <td>0</td>\n",
              "      <td>0</td>\n",
              "      <td>0</td>\n",
              "      <td>0</td>\n",
              "      <td>0</td>\n",
              "      <td>0</td>\n",
              "      <td>0</td>\n",
              "      <td>0</td>\n",
              "      <td>0</td>\n",
              "      <td>0</td>\n",
              "      <td>0</td>\n",
              "      <td>0</td>\n",
              "      <td>0</td>\n",
              "      <td>0</td>\n",
              "      <td>0</td>\n",
              "      <td>0</td>\n",
              "      <td>0</td>\n",
              "      <td>0</td>\n",
              "      <td>0</td>\n",
              "      <td>1</td>\n",
              "      <td>0</td>\n",
              "      <td>0</td>\n",
              "      <td>0</td>\n",
              "      <td>0</td>\n",
              "      <td>0</td>\n",
              "      <td>0</td>\n",
              "      <td>0</td>\n",
              "      <td>0</td>\n",
              "      <td>0</td>\n",
              "      <td>0</td>\n",
              "    </tr>\n",
              "    <tr>\n",
              "      <th>...</th>\n",
              "      <td>...</td>\n",
              "      <td>...</td>\n",
              "      <td>...</td>\n",
              "      <td>...</td>\n",
              "      <td>...</td>\n",
              "      <td>...</td>\n",
              "      <td>...</td>\n",
              "      <td>...</td>\n",
              "      <td>...</td>\n",
              "      <td>...</td>\n",
              "      <td>...</td>\n",
              "      <td>...</td>\n",
              "      <td>...</td>\n",
              "      <td>...</td>\n",
              "      <td>...</td>\n",
              "      <td>...</td>\n",
              "      <td>...</td>\n",
              "      <td>...</td>\n",
              "      <td>...</td>\n",
              "      <td>...</td>\n",
              "      <td>...</td>\n",
              "      <td>...</td>\n",
              "      <td>...</td>\n",
              "      <td>...</td>\n",
              "      <td>...</td>\n",
              "      <td>...</td>\n",
              "      <td>...</td>\n",
              "      <td>...</td>\n",
              "      <td>...</td>\n",
              "      <td>...</td>\n",
              "      <td>...</td>\n",
              "      <td>...</td>\n",
              "      <td>...</td>\n",
              "      <td>...</td>\n",
              "      <td>...</td>\n",
              "      <td>...</td>\n",
              "      <td>...</td>\n",
              "    </tr>\n",
              "    <tr>\n",
              "      <th>41017</th>\n",
              "      <td>0.483871</td>\n",
              "      <td>0.751163</td>\n",
              "      <td>0.041791</td>\n",
              "      <td>0</td>\n",
              "      <td>0</td>\n",
              "      <td>0</td>\n",
              "      <td>0</td>\n",
              "      <td>0</td>\n",
              "      <td>0</td>\n",
              "      <td>0</td>\n",
              "      <td>0</td>\n",
              "      <td>0</td>\n",
              "      <td>0</td>\n",
              "      <td>0</td>\n",
              "      <td>0</td>\n",
              "      <td>0</td>\n",
              "      <td>0</td>\n",
              "      <td>0</td>\n",
              "      <td>0</td>\n",
              "      <td>0</td>\n",
              "      <td>0</td>\n",
              "      <td>0</td>\n",
              "      <td>0</td>\n",
              "      <td>0</td>\n",
              "      <td>0</td>\n",
              "      <td>0</td>\n",
              "      <td>0</td>\n",
              "      <td>0</td>\n",
              "      <td>1</td>\n",
              "      <td>0</td>\n",
              "      <td>0</td>\n",
              "      <td>0</td>\n",
              "      <td>0</td>\n",
              "      <td>0</td>\n",
              "      <td>0</td>\n",
              "      <td>0</td>\n",
              "      <td>0</td>\n",
              "    </tr>\n",
              "    <tr>\n",
              "      <th>41018</th>\n",
              "      <td>0.451613</td>\n",
              "      <td>0.748837</td>\n",
              "      <td>0.156587</td>\n",
              "      <td>0</td>\n",
              "      <td>0</td>\n",
              "      <td>0</td>\n",
              "      <td>0</td>\n",
              "      <td>1</td>\n",
              "      <td>0</td>\n",
              "      <td>0</td>\n",
              "      <td>0</td>\n",
              "      <td>0</td>\n",
              "      <td>0</td>\n",
              "      <td>0</td>\n",
              "      <td>0</td>\n",
              "      <td>0</td>\n",
              "      <td>0</td>\n",
              "      <td>0</td>\n",
              "      <td>0</td>\n",
              "      <td>0</td>\n",
              "      <td>0</td>\n",
              "      <td>0</td>\n",
              "      <td>0</td>\n",
              "      <td>0</td>\n",
              "      <td>0</td>\n",
              "      <td>0</td>\n",
              "      <td>0</td>\n",
              "      <td>0</td>\n",
              "      <td>0</td>\n",
              "      <td>0</td>\n",
              "      <td>0</td>\n",
              "      <td>0</td>\n",
              "      <td>0</td>\n",
              "      <td>0</td>\n",
              "      <td>0</td>\n",
              "      <td>0</td>\n",
              "      <td>0</td>\n",
              "    </tr>\n",
              "    <tr>\n",
              "      <th>41019</th>\n",
              "      <td>0.483871</td>\n",
              "      <td>0.751163</td>\n",
              "      <td>0.044012</td>\n",
              "      <td>0</td>\n",
              "      <td>0</td>\n",
              "      <td>0</td>\n",
              "      <td>0</td>\n",
              "      <td>0</td>\n",
              "      <td>0</td>\n",
              "      <td>0</td>\n",
              "      <td>0</td>\n",
              "      <td>0</td>\n",
              "      <td>0</td>\n",
              "      <td>0</td>\n",
              "      <td>0</td>\n",
              "      <td>0</td>\n",
              "      <td>0</td>\n",
              "      <td>0</td>\n",
              "      <td>0</td>\n",
              "      <td>0</td>\n",
              "      <td>0</td>\n",
              "      <td>0</td>\n",
              "      <td>0</td>\n",
              "      <td>0</td>\n",
              "      <td>0</td>\n",
              "      <td>0</td>\n",
              "      <td>0</td>\n",
              "      <td>0</td>\n",
              "      <td>0</td>\n",
              "      <td>0</td>\n",
              "      <td>0</td>\n",
              "      <td>1</td>\n",
              "      <td>0</td>\n",
              "      <td>0</td>\n",
              "      <td>0</td>\n",
              "      <td>0</td>\n",
              "      <td>0</td>\n",
              "    </tr>\n",
              "    <tr>\n",
              "      <th>41020</th>\n",
              "      <td>0.322581</td>\n",
              "      <td>0.697674</td>\n",
              "      <td>0.016018</td>\n",
              "      <td>0</td>\n",
              "      <td>0</td>\n",
              "      <td>1</td>\n",
              "      <td>0</td>\n",
              "      <td>0</td>\n",
              "      <td>0</td>\n",
              "      <td>0</td>\n",
              "      <td>0</td>\n",
              "      <td>0</td>\n",
              "      <td>0</td>\n",
              "      <td>0</td>\n",
              "      <td>0</td>\n",
              "      <td>0</td>\n",
              "      <td>0</td>\n",
              "      <td>0</td>\n",
              "      <td>0</td>\n",
              "      <td>0</td>\n",
              "      <td>0</td>\n",
              "      <td>0</td>\n",
              "      <td>0</td>\n",
              "      <td>0</td>\n",
              "      <td>0</td>\n",
              "      <td>0</td>\n",
              "      <td>0</td>\n",
              "      <td>0</td>\n",
              "      <td>0</td>\n",
              "      <td>0</td>\n",
              "      <td>0</td>\n",
              "      <td>0</td>\n",
              "      <td>0</td>\n",
              "      <td>0</td>\n",
              "      <td>0</td>\n",
              "      <td>0</td>\n",
              "      <td>0</td>\n",
              "    </tr>\n",
              "    <tr>\n",
              "      <th>41026</th>\n",
              "      <td>0.717742</td>\n",
              "      <td>0.751163</td>\n",
              "      <td>0.008757</td>\n",
              "      <td>0</td>\n",
              "      <td>0</td>\n",
              "      <td>0</td>\n",
              "      <td>0</td>\n",
              "      <td>0</td>\n",
              "      <td>0</td>\n",
              "      <td>0</td>\n",
              "      <td>0</td>\n",
              "      <td>0</td>\n",
              "      <td>0</td>\n",
              "      <td>0</td>\n",
              "      <td>0</td>\n",
              "      <td>0</td>\n",
              "      <td>0</td>\n",
              "      <td>0</td>\n",
              "      <td>0</td>\n",
              "      <td>0</td>\n",
              "      <td>0</td>\n",
              "      <td>0</td>\n",
              "      <td>0</td>\n",
              "      <td>0</td>\n",
              "      <td>0</td>\n",
              "      <td>0</td>\n",
              "      <td>0</td>\n",
              "      <td>0</td>\n",
              "      <td>0</td>\n",
              "      <td>0</td>\n",
              "      <td>0</td>\n",
              "      <td>1</td>\n",
              "      <td>0</td>\n",
              "      <td>0</td>\n",
              "      <td>0</td>\n",
              "      <td>0</td>\n",
              "      <td>0</td>\n",
              "    </tr>\n",
              "  </tbody>\n",
              "</table>\n",
              "<p>7668 rows × 37 columns</p>\n",
              "</div>"
            ],
            "text/plain": [
              "       NAVIO_COMPRIMENTO  ...  LOCAL_ATRACACAO_X_942 - TEG\n",
              "4               0.717742  ...                            0\n",
              "5               0.483871  ...                            0\n",
              "6               0.717742  ...                            0\n",
              "7               0.403226  ...                            0\n",
              "8               0.685484  ...                            0\n",
              "...                  ...  ...                          ...\n",
              "41017           0.483871  ...                            0\n",
              "41018           0.451613  ...                            0\n",
              "41019           0.483871  ...                            0\n",
              "41020           0.322581  ...                            0\n",
              "41026           0.717742  ...                            0\n",
              "\n",
              "[7668 rows x 37 columns]"
            ]
          },
          "metadata": {
            "tags": []
          },
          "execution_count": 44
        }
      ]
    },
    {
      "cell_type": "code",
      "metadata": {
        "id": "1sR6iZmdLtQ5"
      },
      "source": [
        "# Split into training/testing sets\n",
        "#xlr_train = xlr[:-7668]\n",
        "#xlr_test = xlr[-7668:]\n",
        "\n",
        "#y_train = y[:-7668]\n",
        "#y_test = y[-7668:]\n",
        "from sklearn.model_selection import train_test_split\n",
        "x_train, x_test, y_train, y_test = train_test_split(xlr, y)\n"
      ],
      "execution_count": 45,
      "outputs": []
    },
    {
      "cell_type": "code",
      "metadata": {
        "colab": {
          "base_uri": "https://localhost:8080/"
        },
        "id": "2v3Pz2L1N3cq",
        "outputId": "4c07d5fe-b9ba-4439-b5bb-c5362195dd69"
      },
      "source": [
        "#y_test.count()\n",
        "y_test"
      ],
      "execution_count": 55,
      "outputs": [
        {
          "output_type": "execute_result",
          "data": {
            "text/plain": [
              "32362    0.083914\n",
              "24066    0.217455\n",
              "33533    0.028553\n",
              "36722    0.318695\n",
              "965      0.285920\n",
              "           ...   \n",
              "15537    0.305092\n",
              "945      0.508047\n",
              "6799     0.472176\n",
              "31894    0.543308\n",
              "23464    0.176166\n",
              "Name: taxa_tonh, Length: 1917, dtype: float64"
            ]
          },
          "metadata": {
            "tags": []
          },
          "execution_count": 55
        }
      ]
    },
    {
      "cell_type": "code",
      "metadata": {
        "colab": {
          "base_uri": "https://localhost:8080/"
        },
        "id": "MRh3Km9mLAIJ",
        "outputId": "ffd2cf49-9e12-4078-e096-da5a187f8083"
      },
      "source": [
        "# Train the model using the training sets\n",
        "reg = LinearRegression()\n",
        "reg.fit(x_train, y_train)"
      ],
      "execution_count": 48,
      "outputs": [
        {
          "output_type": "execute_result",
          "data": {
            "text/plain": [
              "LinearRegression(copy_X=True, fit_intercept=True, n_jobs=None, normalize=False)"
            ]
          },
          "metadata": {
            "tags": []
          },
          "execution_count": 48
        }
      ]
    },
    {
      "cell_type": "code",
      "metadata": {
        "id": "_2ht6LFRMfZ9"
      },
      "source": [
        "#realizar predições\n",
        "y_pred = reg.predict(x_test)"
      ],
      "execution_count": 49,
      "outputs": []
    },
    {
      "cell_type": "code",
      "metadata": {
        "colab": {
          "base_uri": "https://localhost:8080/"
        },
        "id": "H3dX4eK-LcDx",
        "outputId": "193a99a5-2ef1-475c-e2e2-293fb96fba8d"
      },
      "source": [
        "# The coefficients\n",
        "print('Coefficients: \\n', reg.coef_)\n",
        "# The mean squared error\n",
        "print('Mean squared error: %.2f'\n",
        "      % mean_squared_error(y_test, y_pred))\n",
        "# The coefficient of determination: 1 is perfect prediction\n",
        "print('Coefficient of determination: %.2f'\n",
        "      % r2_score(y_test, y_pred))\n"
      ],
      "execution_count": 51,
      "outputs": [
        {
          "output_type": "stream",
          "text": [
            "Coefficients: \n",
            " [-0.10549004  0.00050206  0.28823787 -0.09507116 -0.07735558 -0.08678292\n",
            " -0.04462842  0.00824316 -0.07693978 -0.06018902  0.22007499  0.17542311\n",
            "  0.20964455 -0.06430687 -0.04989883 -0.05372592  0.01336189 -0.02326159\n",
            " -0.06674002 -0.0744064  -0.04218859 -0.03634831 -0.07705316 -0.10177296\n",
            "  0.07586455  0.1215493   0.20616976 -0.01304203 -0.00842527  0.06374417\n",
            "  0.08541903 -0.0804408  -0.10282961 -0.10352069  0.06868723  0.01699351\n",
            "  0.0737527 ]\n",
            "Mean squared error: 0.01\n",
            "Coefficient of determination: 0.61\n"
          ],
          "name": "stdout"
        }
      ]
    },
    {
      "cell_type": "code",
      "metadata": {
        "colab": {
          "base_uri": "https://localhost:8080/"
        },
        "id": "jvuRMKE1QMDk",
        "outputId": "f7ec1bd3-b39a-4986-ffc0-37cf504a7794"
      },
      "source": [
        ">>> reg.score(x_train, y_train)\n",
        "0.7668160223286261\n",
        ">>> reg.score(x_test, y_test)\n",
        "0.6882607142538016"
      ],
      "execution_count": 56,
      "outputs": [
        {
          "output_type": "execute_result",
          "data": {
            "text/plain": [
              "0.6882607142538016"
            ]
          },
          "metadata": {
            "tags": []
          },
          "execution_count": 56
        }
      ]
    },
    {
      "cell_type": "code",
      "metadata": {
        "colab": {
          "base_uri": "https://localhost:8080/"
        },
        "id": "_3NMhrc-R8Db",
        "outputId": "11c08146-2872-4f59-81fd-09e64d91f61b"
      },
      "source": [
        "\n",
        "\n",
        "\n"
      ],
      "execution_count": 62,
      "outputs": [
        {
          "output_type": "execute_result",
          "data": {
            "text/plain": [
              "0.6250556570941469"
            ]
          },
          "metadata": {
            "tags": []
          },
          "execution_count": 62
        }
      ]
    },
    {
      "cell_type": "code",
      "metadata": {
        "colab": {
          "base_uri": "https://localhost:8080/"
        },
        "id": "Iu05_oCfSOSq",
        "outputId": "e22f7481-5943-4832-c4ac-90d44acb42c9"
      },
      "source": [
        ""
      ],
      "execution_count": 59,
      "outputs": [
        {
          "output_type": "execute_result",
          "data": {
            "text/plain": [
              "0.570908551568579"
            ]
          },
          "metadata": {
            "tags": []
          },
          "execution_count": 59
        }
      ]
    },
    {
      "cell_type": "markdown",
      "metadata": {
        "id": "p5QUrG2Lqkn8"
      },
      "source": [
        "# ##Análise multivariada\n",
        "###Covariância"
      ]
    },
    {
      "cell_type": "code",
      "metadata": {
        "id": "PCTtyD_eqlKu"
      },
      "source": [
        "Xnumeric = x.select_dtypes(include=['int64', 'float64'])\n",
        "np.cov(Xnumeric)"
      ],
      "execution_count": null,
      "outputs": []
    },
    {
      "cell_type": "code",
      "metadata": {
        "id": "W42IvDQFqx1-"
      },
      "source": [
        "np.corrcoef(Xnumeric)"
      ],
      "execution_count": null,
      "outputs": []
    },
    {
      "cell_type": "code",
      "metadata": {
        "id": "deonx0FAq022"
      },
      "source": [
        "plt.scatter(x.taxa_tonh, x.NAVIO_COMPRIMENTO)\n",
        "plt.title('Dispersão Produtividade x Comprimento de Navio')\n",
        "plt.xlabel('Produtividade (ton/h)')   \n",
        "plt.ylabel('Comprimento de Navio (m)') \n",
        "plt.show()"
      ],
      "execution_count": null,
      "outputs": []
    },
    {
      "cell_type": "code",
      "metadata": {
        "id": "7PEtO8IGrEpY"
      },
      "source": [
        "plt.hist([ x.LOCAL_ATRACACAO_X[x.taxa_tonh == tempo_atracacao_horas] for tempo_atracacao_horas in np.unique(x.tempo_atracacao_horas) ],50, density=True)\n",
        "plt.show()"
      ],
      "execution_count": null,
      "outputs": []
    },
    {
      "cell_type": "code",
      "metadata": {
        "id": "cdEDsI2-QV2v"
      },
      "source": [
        "import seaborn as sns\n",
        "sns.set()\n",
        "z=x.taxa_tonh\n",
        "bins_edges = [0,250,500,750,1000,1250,1500,1750,2000]\n",
        "_ = plt.hist(z, bins_edges)\n",
        "_ = plt.xlabel('Produtividade  (ton/h)')\n",
        "_ = plt.ylabel('Frequência')\n",
        "_ = plt.title('Frequência de Taxa de Produtividade')\n",
        "plt.show()"
      ],
      "execution_count": null,
      "outputs": []
    },
    {
      "cell_type": "code",
      "metadata": {
        "id": "F9scvXVQkeK_"
      },
      "source": [
        ""
      ],
      "execution_count": null,
      "outputs": []
    }
  ]
}